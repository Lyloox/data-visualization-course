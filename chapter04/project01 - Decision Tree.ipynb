{
 "cells": [
  {
   "cell_type": "markdown",
   "metadata": {},
   "source": [
    "# Decision Tree Project\n",
    "\n",
    "You have to return the Notebooks `project01` and `project02` for the written deadlines. Be careful, they are different.\n",
    "\n",
    "## Constraints\n",
    "* Fill all the # TODO cells.\n",
    "* When asked to do visualization, use plotting from **matplotlib**, not pandas or seaborn, expect explicity authorized.\n",
    "* Send your work to my inbox laure.daumal@ext.devinci.fr\n",
    "* **Deadline**: Wednesday, 25th of March, 23h42.\n",
    "\n",
    "Don't forget to\n",
    "1. Clear all outputs before saving & sending it to me (**Cell >> All Output >> Clear**).\n",
    "* Restart the kernel and run all cells to check no errors are found (**Cell >> Run All**)."
   ]
  },
  {
   "cell_type": "code",
   "execution_count": null,
   "metadata": {},
   "outputs": [],
   "source": [
    "# TODO: Load the iris_dataset into `iris_dataset` variable\n",
    "\n",
    "iris_dataset = \"https://archive.ics.uci.edu/ml/machine-learning-databases/iris/iris.data\""
   ]
  },
  {
   "cell_type": "code",
   "execution_count": null,
   "metadata": {},
   "outputs": [],
   "source": [
    "# TODO: Define your target column and your features."
   ]
  },
  {
   "cell_type": "code",
   "execution_count": null,
   "metadata": {},
   "outputs": [],
   "source": [
    "# TODO: Use PCA to project your data on your 2 best eigenvectors (hint: you did it in chapter03 project)."
   ]
  },
  {
   "cell_type": "code",
   "execution_count": null,
   "metadata": {},
   "outputs": [],
   "source": [
    "# TODO: Use PCA to project your data on your 2 best features (yes, this is different from above)."
   ]
  },
  {
   "cell_type": "code",
   "execution_count": null,
   "metadata": {},
   "outputs": [],
   "source": [
    "# TODO: Train test split your data."
   ]
  },
  {
   "cell_type": "code",
   "execution_count": null,
   "metadata": {},
   "outputs": [],
   "source": [
    "# TODO: Create a DecisionTreeRegressor model"
   ]
  },
  {
   "cell_type": "code",
   "execution_count": null,
   "metadata": {},
   "outputs": [],
   "source": [
    "# TODO: Fit the model on the training data"
   ]
  },
  {
   "cell_type": "code",
   "execution_count": null,
   "metadata": {},
   "outputs": [],
   "source": [
    "# TODO: Visualize the tree with max_depth = 2 or 3 maximum."
   ]
  },
  {
   "cell_type": "code",
   "execution_count": null,
   "metadata": {},
   "outputs": [],
   "source": [
    "# TODO: Predict on your test set."
   ]
  },
  {
   "cell_type": "code",
   "execution_count": null,
   "metadata": {},
   "outputs": [],
   "source": [
    "# TODO: Calculate MAE"
   ]
  },
  {
   "cell_type": "code",
   "execution_count": null,
   "metadata": {},
   "outputs": [],
   "source": [
    "# TODO: Use a Markdown cell to explain me your observations."
   ]
  },
  {
   "cell_type": "code",
   "execution_count": null,
   "metadata": {},
   "outputs": [],
   "source": [
    "# TODO: Let your original training as it is, but use the next cells to improve your model. \n",
    "\n",
    "# Feel free to explain what you are trying to to, if you succeed or not, and let appear very step of your reflexion.\n",
    "\n",
    "# Use as many cells as you want!"
   ]
  },
  {
   "cell_type": "markdown",
   "metadata": {},
   "source": [
    "# Bonus\n",
    "\n",
    "There is a rumor against bats saying they are the cause of the Coronavirus plague.\n",
    "\n",
    "Please share your best bat picture to show your support.\n",
    "\n",
    "![bat](https://sf2.viepratique.fr/wp-content/uploads/sites/8/2019/03/gettyimages-118361290.jpg)"
   ]
  }
 ],
 "metadata": {
  "kernelspec": {
   "display_name": "Python 3",
   "language": "python",
   "name": "python3"
  },
  "language_info": {
   "codemirror_mode": {
    "name": "ipython",
    "version": 3
   },
   "file_extension": ".py",
   "mimetype": "text/x-python",
   "name": "python",
   "nbconvert_exporter": "python",
   "pygments_lexer": "ipython3",
   "version": "3.7.2"
  }
 },
 "nbformat": 4,
 "nbformat_minor": 4
}
