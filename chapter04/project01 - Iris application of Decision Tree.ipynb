{
 "cells": [
  {
   "cell_type": "markdown",
   "metadata": {},
   "source": [
    "# Decision Tree Project on Iris dataset\n",
    "\n",
    "You have to return the Notebooks `project01` and `project02` for the written deadlines. Be careful, they are different.\n",
    "\n",
    "## Constraints\n",
    "* Fill all the # TODO cells.\n",
    "* When asked to do visualization, use plotting from **matplotlib**, not pandas or seaborn, unless it is explicity authorized.\n",
    "* Send your work to my inbox laure.daumal@ext.devinci.fr with the tags [BIN2][Chapter04] in the subject of the email.\n",
    "* **Deadline**: Sunday, 2nd of May 2021, 23h42.\n",
    "\n",
    "Don't forget to\n",
    "1. Clear all outputs before saving & sending it to me (**Cell >> All Output >> Clear**).\n",
    "* Restart the kernel and run all cells to check no errors are found (**Cell >> Run All**).\n",
    "\n",
    "### Dataset informations\n",
    "\n",
    "Columns of the iris dataset are:\n",
    "   1. sepal length in cm\n",
    "   2. sepal width in cm\n",
    "   3. petal length in cm\n",
    "   4. petal width in cm\n",
    "   5. class:\n",
    "      -- Iris Setosa\n",
    "      -- Iris Versicolour\n",
    "      -- Iris Virginica"
   ]
  },
  {
   "cell_type": "code",
   "execution_count": null,
   "metadata": {},
   "outputs": [],
   "source": [
    "# Load the iris_dataset into `iris_dataset` variable\n",
    "\n",
    "import pandas as pd\n",
    "\n",
    "iris_dataset = pd.read_csv('https://archive.ics.uci.edu/ml/machine-learning-databases/iris/iris.data', header=None,\n",
    "                          names=[\"SepalLength\", \"SepalWidth\", \"PetalLength\", \"PetalWidth\", \"Class\"])\n",
    "iris_dataset"
   ]
  },
  {
   "cell_type": "code",
   "execution_count": null,
   "metadata": {},
   "outputs": [],
   "source": [
    "# TODO: Define your target column and your features."
   ]
  },
  {
   "cell_type": "code",
   "execution_count": null,
   "metadata": {},
   "outputs": [],
   "source": [
    "# TODO: Train test split your data."
   ]
  },
  {
   "cell_type": "code",
   "execution_count": null,
   "metadata": {},
   "outputs": [],
   "source": [
    "# TODO: Create a DecisionTreeRegressor model"
   ]
  },
  {
   "cell_type": "code",
   "execution_count": null,
   "metadata": {},
   "outputs": [],
   "source": [
    "# TODO: Fit the model on the training data"
   ]
  },
  {
   "cell_type": "code",
   "execution_count": null,
   "metadata": {},
   "outputs": [],
   "source": [
    "# TODO: Visualize the tree with max_depth = 2 or 3 maximum."
   ]
  },
  {
   "cell_type": "code",
   "execution_count": null,
   "metadata": {},
   "outputs": [],
   "source": [
    "# TODO: Predict on your test set."
   ]
  },
  {
   "cell_type": "code",
   "execution_count": null,
   "metadata": {},
   "outputs": [],
   "source": [
    "# TODO: Calculate MAE"
   ]
  },
  {
   "cell_type": "code",
   "execution_count": null,
   "metadata": {},
   "outputs": [],
   "source": [
    "# TODO: Use a Markdown cell to explain me your observations."
   ]
  },
  {
   "cell_type": "code",
   "execution_count": null,
   "metadata": {},
   "outputs": [],
   "source": [
    "# TODO: Let your original training as it is, but use the next cells to improve your model. \n",
    "\n",
    "# Feel free to explain what you are trying to to, if you succeed or not, and let appear very step of your reflexion.\n",
    "\n",
    "# Use as many cells as you want!"
   ]
  },
  {
   "cell_type": "markdown",
   "metadata": {},
   "source": [
    "# Bonus\n",
    "\n",
    "In these times of confinement, there are few opportunities to get out and go where you want. \n",
    "\n",
    "Share a photo of where you'd like to be!\n",
    "\n",
    "![beach](https://d1vp8nomjxwyf1.cloudfront.net/wp-content/uploads/sites/267/2020/10/30062601/White-Sandy-Beach-Stretch.jpg)"
   ]
  }
 ],
 "metadata": {
  "kernelspec": {
   "display_name": "Python 3",
   "language": "python",
   "name": "python3"
  },
  "language_info": {
   "codemirror_mode": {
    "name": "ipython",
    "version": 3
   },
   "file_extension": ".py",
   "mimetype": "text/x-python",
   "name": "python",
   "nbconvert_exporter": "python",
   "pygments_lexer": "ipython3",
   "version": "3.7.2"
  }
 },
 "nbformat": 4,
 "nbformat_minor": 4
}
