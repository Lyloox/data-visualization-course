{
 "cells": [
  {
   "cell_type": "code",
   "execution_count": null,
   "metadata": {},
   "outputs": [],
   "source": [
    "# Load packages\n",
    "import geopandas\n",
    "import shapely\n",
    "\n",
    "import numpy as np\n",
    "import pandas as pd\n",
    "\n",
    "import matplotlib.pyplot as plt\n",
    "import missingno as msn\n",
    "\n",
    "\n",
    "%matplotlib inline"
   ]
  },
  {
   "cell_type": "code",
   "execution_count": null,
   "metadata": {},
   "outputs": [],
   "source": [
    "country = geopandas.read_file(\"gz_2010_us_040_00_5m.json\")\n",
    "\n",
    "# TODO: Exclude Alaska and Hawaii\n",
    "only_us = country[country['NAME'].isin(['Alaska', 'Hawaii']) == False]\n",
    "only_us.plot(figsize=(18, 18));"
   ]
  },
  {
   "cell_type": "code",
   "execution_count": null,
   "metadata": {},
   "outputs": [],
   "source": [
    "florence = pd.read_csv('florence.csv')\n",
    "florence['Long'] = -florence['Long']\n",
    "florence['coordinates'] = florence[['Long', 'Lat']].values.tolist()\n",
    "\n",
    "# TODO: Apply the Point fonction on the `coordinates` column.\n",
    "florence['coordinates'] = florence['coordinates'].apply(shapely.geometry.Point)\n",
    "florence.head()"
   ]
  },
  {
   "cell_type": "code",
   "execution_count": null,
   "metadata": {},
   "outputs": [],
   "source": [
    "geodf_florence = geopandas.GeoDataFrame(florence, geometry='coordinates')\n",
    "\n",
    "# TODO: Display the Pression values for each point, change the label and the colors of the legend.\n",
    "\n",
    "fig, ax = plt.subplots(1, figsize=(18, 5), facecolor=(0, 1, 1, .08))\n",
    "\n",
    "base = only_us.plot(ax=ax, color='#3B3C6E')\n",
    "\n",
    "points = geodf_florence.plot(ax=base, column='Pres', marker=\"<\", markersize=10, cmap='viridis', \n",
    "                             label=\"Pression (hPa)\", legend=True)\n",
    "\n",
    "ax.axis('off')\n",
    "\n",
    "ax.set_title(\"Hurricane Florence in US Map\", fontsize=20)\n",
    "\n",
    "plt.show()"
   ]
  },
  {
   "cell_type": "code",
   "execution_count": null,
   "metadata": {},
   "outputs": [],
   "source": [
    "# TODO: Plot a line Char with the Date of the Florence Hurricane as x-axis and its Pression as y-axis.\n",
    "\n",
    "fig, ax = plt.subplots(1, figsize=(18, 5))\n",
    "\n",
    "ax.plot(geodf_florence[\"Date\"], geodf_florence[\"Pres\"])\n",
    "\n",
    "plt.show()"
   ]
  }
 ],
 "metadata": {
  "kernelspec": {
   "display_name": "Python 3",
   "language": "python",
   "name": "python3"
  },
  "language_info": {
   "codemirror_mode": {
    "name": "ipython",
    "version": 3
   },
   "file_extension": ".py",
   "mimetype": "text/x-python",
   "name": "python",
   "nbconvert_exporter": "python",
   "pygments_lexer": "ipython3",
   "version": "3.7.2"
  }
 },
 "nbformat": 4,
 "nbformat_minor": 4
}
