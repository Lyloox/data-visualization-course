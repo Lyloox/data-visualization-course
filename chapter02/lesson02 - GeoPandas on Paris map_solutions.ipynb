{
 "cells": [
  {
   "cell_type": "code",
   "execution_count": null,
   "metadata": {},
   "outputs": [],
   "source": [
    "# Load packages\n",
    "import geopandas\n",
    "import shapely\n",
    "\n",
    "import numpy as np\n",
    "import pandas as pd\n",
    "\n",
    "import matplotlib.pyplot as plt\n",
    "import missingno\n",
    "\n",
    "\n",
    "%matplotlib inline"
   ]
  },
  {
   "cell_type": "code",
   "execution_count": null,
   "metadata": {},
   "outputs": [],
   "source": [
    "paris_df = geopandas.read_file(\"arrondissements.shp\", encoding=\"utf-8\")\n",
    "trees = pd.read_csv('les-arbres.csv', sep=';', error_bad_lines = False)\n",
    "trees = trees.drop(['COMPLEMENTADRESSE', 'NUMERO', 'VARIETEOUCULTIVAR'], axis=1)\n"
   ]
  },
  {
   "cell_type": "code",
   "execution_count": null,
   "metadata": {},
   "outputs": [],
   "source": [
    "# TODO: only keep trees that are in Paris\n",
    "paris_trees = trees[trees[\"ARRONDISSEMENT\"].str.contains(\"PARIS\")]\n",
    "paris_trees"
   ]
  },
  {
   "cell_type": "code",
   "execution_count": null,
   "metadata": {},
   "outputs": [],
   "source": [
    "# TODO: Use \"Apply\" to convert float-type `c_arinsee` to int-type.\n",
    "paris_df[\"c_ar\"] = paris_df[\"c_ar\"].apply(int)\n",
    "paris_df"
   ]
  },
  {
   "cell_type": "code",
   "execution_count": null,
   "metadata": {},
   "outputs": [],
   "source": [
    "def get_arrdt(s: str) -> int:\n",
    "    e_index = s.find(\"E\")\n",
    "    # TODO: Use `e_index` (the index of the letter 'E') to get the 2 characters before it.\n",
    "    two_chars_before_e = s[e_index-2:e_index]\n",
    "    return int(two_chars_before_e)\n",
    "    \n",
    "print(get_arrdt(\"PARIS 8E ARRDT\"))\n",
    "print(get_arrdt(\"PARIS 11E ARRDT\"))"
   ]
  }
 ],
 "metadata": {
  "kernelspec": {
   "display_name": "Python 3",
   "language": "python",
   "name": "python3"
  },
  "language_info": {
   "codemirror_mode": {
    "name": "ipython",
    "version": 3
   },
   "file_extension": ".py",
   "mimetype": "text/x-python",
   "name": "python",
   "nbconvert_exporter": "python",
   "pygments_lexer": "ipython3",
   "version": "3.7.2"
  }
 },
 "nbformat": 4,
 "nbformat_minor": 4
}
