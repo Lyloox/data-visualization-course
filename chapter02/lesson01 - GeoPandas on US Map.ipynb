{
 "cells": [
  {
   "cell_type": "markdown",
   "metadata": {},
   "source": [
    "# GeoPandas\n",
    "\n",
    "In chapter 1 we learnt:\n",
    "* How to use **NumPy** (package for scientific computing, which is part of SciPy package that we didn't see yet)\n",
    "* How to use **Pandas** (package providing data structures and data analysis tools)\n",
    "* How to use **Matplotlib** (a 2D plotting library)\n",
    "* How to load a CSV file into a pandas.DataFrame object\n",
    "\n",
    "Now, we will see:\n",
    "* How to plot in geospatial data using **GeoPandas**\n",
    "* How to load a JSON file into a geopandas.GeoDataFrame object\n",
    "* How to use **Shapely**, a package providing geometric objects and operations\n",
    "* How to use **missingno** to visualize missing data"
   ]
  },
  {
   "cell_type": "markdown",
   "metadata": {},
   "source": [
    "# Load & Downloads\n",
    "\n",
    "To visualize geographic data, you need two things:\n",
    "* The original map that defines countries, roads, rivers, ...\n",
    "* Your own data to display over it\n",
    "\n",
    "Download steps:\n",
    "\n",
    "* Download the **US States** map > 5m > GeoJSON file from https://eric.clst.org/tech/usgeojson/. His name should be `gz_2010_us_040_00_5m.json`\n",
    "* Download the **Florence Hurricane points** into a `florence.csv` file: http://flhurricane.com/cyclone/stormhistory.php?p=1&year=2018&storm=6   \n",
    "Tips: if you are on Linux or MacOS, you can use `wget` to download the file by link:   \n",
    "```\n",
    "wget \"http://flhurricane.com/cyclone/stormhistory.php?p=1&year=2018&storm=6\"\n",
    "```\n",
    "Then rename the file to `florence.csv`\n",
    "```\n",
    "mv stormhistory.php\\?p\\=1\\&year\\=2018\\&storm\\=6 florence.csv\n",
    "```\n",
    "\n",
    "Move both files to this folder. Then:\n",
    "### If you use Pipenv\n",
    "* Run `pipenv install` at the root of the repository. A few packages have been added to the Pipfile since last time.\n",
    "\n",
    "### If you use Anaconda\n",
    "* Run \"Anaconda Prompt\" with Administrator Rights.\n",
    "* Install conda forga by typing `conda config --append channels conda-forge`\n",
    "* Then, type `conda install geopandas shapely missingno descartes -c conda forge`"
   ]
  },
  {
   "cell_type": "code",
   "execution_count": null,
   "metadata": {},
   "outputs": [],
   "source": [
    "# Load packages\n",
    "import geopandas\n",
    "import shapely\n",
    "\n",
    "import numpy as np\n",
    "import pandas as pd\n",
    "\n",
    "import matplotlib.pyplot as plt\n",
    "from mpl_toolkits.axes_grid1 import make_axes_locatable\n",
    "import missingno\n",
    "\n",
    "\n",
    "%matplotlib inline"
   ]
  },
  {
   "cell_type": "markdown",
   "metadata": {},
   "source": [
    "# Plotting the US Map with GeoJSON data"
   ]
  },
  {
   "cell_type": "markdown",
   "metadata": {},
   "source": [
    "Let's load our JSON file with `geopandas`.\n",
    "\n",
    "**`GeoPandas`** is an open source project to make working with geospatial data in python easier.  \n",
    "GeoPandas extends the datatypes used by `pandas` to allow spatial operations on geometric types.  \n",
    "Geometric operations are performed by `shapely`.  \n",
    "Geopandas further depends on `fiona` for file access and `descartes` and `matplotlib` for plotting."
   ]
  },
  {
   "cell_type": "code",
   "execution_count": null,
   "metadata": {},
   "outputs": [],
   "source": [
    "country = geopandas.read_file(\"gz_2010_us_040_00_5m.json\")\n",
    "country.head()"
   ]
  },
  {
   "cell_type": "markdown",
   "metadata": {},
   "source": [
    "You can see in the column `geometry` some shapes. Each value is a **Shapely** object. It can be a:\n",
    "* Point\n",
    "* Line\n",
    "* Polygon\n",
    "* MultiPolygon\n",
    "\n",
    "Each object can be used for a different type of physical object such as: Point for building, Line for Street, Polygon for city, and MultiPolygon for country with multiple cities inside. For more information about each Geometric object, read the **Shapely** documentation: https://shapely.readthedocs.io/en/stable/manual.html#geometric-objects"
   ]
  },
  {
   "cell_type": "code",
   "execution_count": null,
   "metadata": {},
   "outputs": [],
   "source": [
    "print(type(country))"
   ]
  },
  {
   "cell_type": "markdown",
   "metadata": {},
   "source": [
    "`country` is a GeoDataFrame: it is very similar to pandas DataFrame and both objects share a lot of functionalities, like plotting."
   ]
  },
  {
   "cell_type": "code",
   "execution_count": null,
   "metadata": {},
   "outputs": [],
   "source": [
    "country.plot()"
   ]
  },
  {
   "cell_type": "markdown",
   "metadata": {},
   "source": [
    "Here, the map also include faraway countries, so we will remove them to focus on the US states.\n",
    "\n",
    "With what we learnt in Chapter 01 - Lesson02, remove \"Alaska\" and \"Hawaii\" from the `country` DataFrame.  \n",
    "Return the result in the `only_us` DataFrame variable."
   ]
  },
  {
   "cell_type": "code",
   "execution_count": null,
   "metadata": {},
   "outputs": [],
   "source": [
    "print(country['NAME'].unique())\n",
    "\n",
    "# TODO: Exclude Alaska and Hawaii\n",
    "only_us = country\n",
    "only_us.plot(figsize=(18, 18));"
   ]
  },
  {
   "cell_type": "markdown",
   "metadata": {},
   "source": [
    "# Plotting the Hurricane points"
   ]
  },
  {
   "cell_type": "code",
   "execution_count": null,
   "metadata": {},
   "outputs": [],
   "source": [
    "florence = pd.read_csv('florence.csv')\n",
    "florence.head()"
   ]
  },
  {
   "cell_type": "markdown",
   "metadata": {},
   "source": [
    "Instead of plotting the missing values \"by hand\", we can use the `missingno` package. It will print the number of non-N/A values for each column."
   ]
  },
  {
   "cell_type": "code",
   "execution_count": null,
   "metadata": {},
   "outputs": [],
   "source": [
    "missingno.bar(florence);"
   ]
  },
  {
   "cell_type": "markdown",
   "metadata": {},
   "source": [
    "You can have a more complex view, seeing which lines contains the missing values in each column, using `matrix`"
   ]
  },
  {
   "cell_type": "code",
   "execution_count": null,
   "metadata": {},
   "outputs": [],
   "source": [
    "missingno.matrix(florence)"
   ]
  },
  {
   "cell_type": "markdown",
   "metadata": {},
   "source": [
    "There's only one missing value, in the `Forecaster` column.\n",
    "\n",
    "While we're at it, let's drop this column with some unusued features of this dataset."
   ]
  },
  {
   "cell_type": "code",
   "execution_count": null,
   "metadata": {},
   "outputs": [],
   "source": [
    "florence = florence.drop(['AdvisoryNumber', 'Forecaster', 'Received'], axis=1)\n",
    "florence.head()"
   ]
  },
  {
   "cell_type": "markdown",
   "metadata": {},
   "source": [
    "Look at how we defined `axis=1` in the `drop` function. Ring a bell? Indeed, we want to drop columns and not rows.\n",
    "\n",
    "To take a **statistical** look at the data, we can use the `describe` function."
   ]
  },
  {
   "cell_type": "code",
   "execution_count": null,
   "metadata": {},
   "outputs": [],
   "source": [
    "florence.describe()"
   ]
  },
  {
   "cell_type": "markdown",
   "metadata": {},
   "source": [
    "* **count** is the number of values\n",
    "* **mean** is the average\n",
    "* **min** is the minimum value observed\n",
    "* **max** is the maximum value observed\n",
    "* **std** is the standart deviation\n",
    "* **25%** is the 25% **percentile**. \n",
    "\n",
    "In the image below, you can see the 95% percentile: it is the value below which 95% of the observations may be found. \n",
    "\n",
    "![Percentile](https://upload.wikimedia.org/wikipedia/commons/thumb/f/f7/Loi_fisher_95e_centile.svg/2560px-Loi_fisher_95e_centile.svg.png)"
   ]
  },
  {
   "cell_type": "markdown",
   "metadata": {},
   "source": [
    "## From coordinates to Shapely object\n",
    "\n",
    "Now, let's take a moment to get into some theory with Latitude & Longitude.\n",
    "\n",
    "![LatLongMap](http://www.satsig.net/world105.gif)\n",
    "\n",
    "* **Latitude** is used to express how far north or south you are, relative to the equator. \n",
    "* **Longitude** shows your location in an east-west direction, relative to the Greenwich meridian. \n",
    "\n",
    "The usual notation is `(Long, Lat)` with `Long` from -180 to +180 and `Lat` from -90 to +90 (as you can see on the map above). Usually, we give the `(Long, Lat)` values according to (**N**orth, **E**ast).\n",
    "\n",
    "On the output of the `describe()` function above, you can the see the **mean** (<=> average) of the (Long, Lat) values are (57, 26). If you look at the map, in (N, E) notation, that would put us somewhere near Russia (in Lettonia, actually).\n",
    "\n",
    "Indeed, the values we got from the Florence Hurrican website are (**N**orth, **W**est) wise, so we need to make the West values negative to correctly plot the data in the (N, E) notation."
   ]
  },
  {
   "cell_type": "code",
   "execution_count": null,
   "metadata": {},
   "outputs": [],
   "source": [
    "florence['Long'] = -florence['Long']\n",
    "florence.head()"
   ]
  },
  {
   "cell_type": "markdown",
   "metadata": {},
   "source": [
    "Now that our Latitude & Longitude values are correct, we will transform it in a `Point` from the **shapely** library.\n",
    "\n",
    "The `Point` constructor method takes a list of points, in 2 or 3 dimensions."
   ]
  },
  {
   "cell_type": "code",
   "execution_count": null,
   "metadata": {},
   "outputs": [],
   "source": [
    "x, y = 10, 20\n",
    "\n",
    "print(shapely.geometry.Point([x, y]))\n",
    "\n",
    "z = 32\n",
    "\n",
    "print(shapely.geometry.Point([x, y, z]))"
   ]
  },
  {
   "cell_type": "code",
   "execution_count": null,
   "metadata": {},
   "outputs": [],
   "source": [
    "# Create a third column, `coordinates`, taking for values the list [Long, Lat]\n",
    "florence['coordinates'] = florence[['Long', 'Lat']].values.tolist()\n",
    "florence.head()"
   ]
  },
  {
   "cell_type": "markdown",
   "metadata": {},
   "source": [
    "`apply` is a method used on DataFrame or GeoDataFrame to apply a function to a whole column."
   ]
  },
  {
   "cell_type": "code",
   "execution_count": null,
   "metadata": {},
   "outputs": [],
   "source": [
    "# Just an example\n",
    "\n",
    "def multiplyby2(x):\n",
    "    return x*2\n",
    "\n",
    "florence[\"Lat\"].apply(multiplyby2)"
   ]
  },
  {
   "cell_type": "markdown",
   "metadata": {},
   "source": [
    "Look how we did not give any arguments to `multiplyby2` in the `apply` function.   \n",
    "`apply` will call your function by iteself for each value of the selected rows.\n",
    "\n",
    "Instead of defining an entire function with a name, you can use `lambda function`. It's also called an `anonymous function`."
   ]
  },
  {
   "cell_type": "code",
   "execution_count": null,
   "metadata": {},
   "outputs": [],
   "source": [
    "# This is equivalent to florence[\"Lat\"].apply(multiplyby2)\n",
    "florence[\"Lat\"].apply(lambda x: x*2)"
   ]
  },
  {
   "cell_type": "markdown",
   "metadata": {},
   "source": [
    "You can also apply the same function to multiple columns."
   ]
  },
  {
   "cell_type": "code",
   "execution_count": null,
   "metadata": {},
   "outputs": [],
   "source": [
    "florence[[\"Lat\", \"Wind\", \"Pres\"]].apply(multiplyby2)"
   ]
  },
  {
   "cell_type": "markdown",
   "metadata": {},
   "source": [
    "`apply` only returns the modified data without touching our (Geo)DataFrame, so `florence` were not modified.  \n",
    "Let's return to our Point conversion."
   ]
  },
  {
   "cell_type": "code",
   "execution_count": null,
   "metadata": {},
   "outputs": [],
   "source": [
    "# TODO: Apply the Point fonction on the `coordinates` column.\n",
    "florence['coordinates'] = florence['coordinates']\n",
    "florence.head()"
   ]
  },
  {
   "cell_type": "markdown",
   "metadata": {},
   "source": [
    "## Convert the DataFrame to GeoDataFrame\n"
   ]
  },
  {
   "cell_type": "code",
   "execution_count": null,
   "metadata": {},
   "outputs": [],
   "source": [
    "geodf_florence = geopandas.GeoDataFrame(florence, geometry='coordinates')\n",
    "\n",
    "# If running this cell gives you \"TypeError: Input must be valid geometry objects\", \n",
    "# it means your Point conversion above failed.\n",
    "geodf_florence.head()"
   ]
  },
  {
   "cell_type": "markdown",
   "metadata": {},
   "source": [
    "Our `coordinates` column is now similar as the `geometry` column from the US Map : it contains **Shapely** objects. We can plot it with the `plot` method from GeoPandas, the same as we did before."
   ]
  },
  {
   "cell_type": "code",
   "execution_count": null,
   "metadata": {},
   "outputs": [],
   "source": [
    "geodf_florence.plot(figsize=(20,10));"
   ]
  },
  {
   "cell_type": "markdown",
   "metadata": {},
   "source": [
    "# Plotting Hurricane points on the US Map using Matplotlib"
   ]
  },
  {
   "cell_type": "code",
   "execution_count": null,
   "metadata": {},
   "outputs": [],
   "source": [
    "fig, ax = plt.subplots(1, figsize=(18, 18))\n",
    "\n",
    "# Plotting the base\n",
    "base = only_us.plot(ax=ax)\n",
    "\n",
    "# Plotting the hurricane position on top with cyan color to stand out:\n",
    "geodf_florence.plot(ax=base, color='cyan', marker=\"*\", markersize=10);\n",
    "\n",
    "plt.show()"
   ]
  },
  {
   "cell_type": "markdown",
   "metadata": {},
   "source": [
    "We can also makes it even more beautiful and use more data, for example we can\n",
    "* Color the Hurrican points in a different color depending on the force of the **Wind**.\n",
    "* Remove the Lat, Long axis\n",
    "* Add a title, legend, colors, ...\n",
    "* Use a `divider` to align the legend with the plot\n",
    "\n",
    "You can view the full list of [colormaps provided by matplotlib](https://matplotlib.org/tutorials/colors/colormaps.html)."
   ]
  },
  {
   "cell_type": "code",
   "execution_count": null,
   "metadata": {},
   "outputs": [],
   "source": [
    "fig, ax = plt.subplots(1, figsize=(18, 8), facecolor=(0, 1, 1, .08))\n",
    "\n",
    "divider = make_axes_locatable(ax)\n",
    "cax = divider.append_axes(\"right\", size=\"5%\", pad=0.1)\n",
    "\n",
    "base = only_us.plot(ax=ax, color='#3B3C6E')\n",
    "\n",
    "points = geodf_florence.plot(ax=base, \n",
    "                             cax=cax,\n",
    "                             \n",
    "                             column='Wind', \n",
    "                             marker=\"<\", \n",
    "                             markersize=10, \n",
    "                             cmap='cool', \n",
    "                             \n",
    "                             label=\"Wind speed (mph)\", \n",
    "                             legend=True)\n",
    "\n",
    "ax.axis('off')\n",
    "\n",
    "ax.set_title(\"Hurricane Florence in US Map\", fontsize=20)\n",
    "\n",
    "plt.show()"
   ]
  },
  {
   "cell_type": "markdown",
   "metadata": {},
   "source": [
    "Now, instead of showing the force of the `Wind`:\n",
    "* Show the value of the `Pres` column.\n",
    "* Label the legend as \"Pression (hPa)\"\n",
    "* CHange the color map `cmap` to \"viridis\""
   ]
  },
  {
   "cell_type": "code",
   "execution_count": null,
   "metadata": {},
   "outputs": [],
   "source": [
    "# TODO: Display the Pression values for each point, change the label and the colors of the legend.\n",
    "\n",
    "fig, ax = plt.subplots(1, figsize=(18, 5))\n",
    "\n",
    "plt.show()"
   ]
  },
  {
   "cell_type": "markdown",
   "metadata": {},
   "source": [
    "Just to see the evolution of the Pressure, display a basic Line Chart with the evolution of the Pression by Date."
   ]
  },
  {
   "cell_type": "code",
   "execution_count": null,
   "metadata": {},
   "outputs": [],
   "source": [
    "# TODO: Plot a line Char with the Date of the Florence Hurricane as x-axis and its Pression as y-axis.\n",
    "\n",
    "fig, ax = plt.subplots(1, figsize=(18, 5))\n",
    "\n",
    "plt.show()"
   ]
  },
  {
   "cell_type": "markdown",
   "metadata": {},
   "source": [
    "To know more of what you can do with GeoPandas, [explore their gallery](http://geopandas.org/gallery/index.html)."
   ]
  }
 ],
 "metadata": {
  "kernelspec": {
   "display_name": "Python 3",
   "language": "python",
   "name": "python3"
  },
  "language_info": {
   "codemirror_mode": {
    "name": "ipython",
    "version": 3
   },
   "file_extension": ".py",
   "mimetype": "text/x-python",
   "name": "python",
   "nbconvert_exporter": "python",
   "pygments_lexer": "ipython3",
   "version": "3.7.2"
  }
 },
 "nbformat": 4,
 "nbformat_minor": 4
}
