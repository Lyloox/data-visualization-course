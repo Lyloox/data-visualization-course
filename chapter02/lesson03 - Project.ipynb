{
 "cells": [
  {
   "cell_type": "markdown",
   "metadata": {},
   "source": [
    "\n",
    "# Your mission: Teach me something I don't know.\n",
    "\n",
    "The title is self-explanatory. *Teach me something I don't know.*\n",
    "\n",
    "## Constraints\n",
    "* Use the [Pokémon Go dataset](https://we.tl/t-Ji9vz9Y93A).\n",
    "* Use **matplotlib**, **(geo)pandas** and other librairies we saw in the last courses. (Don't make me download new ones)\n",
    "* You should display at least **five** different plots.\n",
    "* At least **three** of them should be based on **geolocation**.\n",
    "* Make it *beautiful*. Very simple plots are not enough. Put legends, labels, colors, ...\n",
    "* And, of course: use or do something we didn't see in this notebook.\n",
    "* Send your work to my inbox laure.daumal@ext.devinci.fr\n",
    "* **Deadline**: Wednesday, 26th of February, 23h42. You have a bit more than two weeks and a half.\n",
    "\n",
    "Don't forget to\n",
    "1. Clear all outputs before saving & sending it to me (**Cell >> All Output >> Clear**).\n",
    "* Restart the kernel and run all cells to check no errors are found (**Cell >> Run All**).\n",
    "\n",
    "### Examples / Ideas\n",
    "\n",
    "Need some inspiration?\n",
    "\n",
    "* Find inspiration on internet, for example the [matplotlib Gallery](https://matplotlib.org/3.1.1/gallery/index.html) \n",
    "* 3D Plotting: https://matplotlib.org/gallery/mplot3d/scatter3d.html \n",
    "* Matplotlib animation: https://matplotlib.org/api/animation_api.html \n",
    "* Vary the map: the Pokémon Go dataset use world-wide locations, you can focus on a specific Continent, Country or Region. You can also show water: seas, lakes, ...\n",
    "* Use non-geolocalisation features (columns) to put in relation unusual correlation and detect patterns. (In 2D or 3D)\n",
    "\n",
    "### Pokémon Go Dataset feature description\n",
    "\n",
    "* pokemonId - the identifier of a pokemon (numeric; ranges between 1 and 151)\n",
    "* latitude, longitude - coordinates of a sighting (numeric)\n",
    "* appearedLocalTime - exact time of a sighting in format yyyy-mm-dd'T'hh-mm-ss.ms'Z' (nominal)\n",
    "* cellId 90-5850m - geographic position projected on a S2 Cell, with cell sizes ranging from 90 to 5850m (numeric)\n",
    "* appearedTimeOfDay - time of the day of a sighting (night, evening, afternoon, morning)\n",
    "* appearedHour/appearedMinute - local hour/minute of a sighting (numeric)\n",
    "* appearedDayOfWeek - week day of a sighting (nominal)\n",
    "* appearedDay/appearedMonth/appearedYear - day/month/year of a sighting (numeric)\n",
    "* terrainType - terrain where pokemon appeared described with help of GLCF Modis Land Cover (numeric)\n",
    "* closeToWater - did pokemon appear close (100m or less) to water (Boolean, same source as above)\n",
    "* city - the city of a sighting (nominal)\n",
    "* continent (not always parsed right) - the continent of a sighting (nominal)\n",
    "* weather - weather type during a sighting (nominal)\n",
    "* temperature - temperature in celsius at the location of a sighting (numeric)\n",
    "* windSpeed - speed of the wind in km/h at the location of a sighting (numeric)\n",
    "* windBearing - wind direction (numeric)\n",
    "* pressure - atmospheric pressure in bar at the location of a sighting (numeric)\n",
    "* weatherIcon - a compact representation of the weather at the location of a sighting (nominal)\n",
    "* sunriseMinutesMidnight-sunsetMinutesBefore - time of appearance relatively to sunrise/sunset Source\n",
    "* population density - what is the population density per square km of a sighting (numeric, Source)\n",
    "* urban-rural - how urban is location where pokemon appeared (Boolean, built on Population density, <200 for rural, >=200 and <400 for midUrban, >=400 and <800 for subUrban, >800 for urban)\n",
    "* gymDistanceKm, pokestopDistanceKm - how far is the nearest gym/pokestop in km from a sighting? (numeric, extracted from this dataset)\n",
    "* gymIn100m-pokestopIn5000m - is there a gym/pokestop in 100/200/etc meters? (Boolean)\n",
    "* cooc 1-cooc 151 - co-occurrence with any other pokemon (pokemon ids range between 1 and 151) within 100m distance and within the last 24 hours (Boolean)\n",
    "* class - pokemonId"
   ]
  },
  {
   "cell_type": "code",
   "execution_count": null,
   "metadata": {},
   "outputs": [],
   "source": [
    "print(\"Good luck!\")"
   ]
  }
 ],
 "metadata": {
  "kernelspec": {
   "display_name": "Python 3",
   "language": "python",
   "name": "python3"
  },
  "language_info": {
   "codemirror_mode": {
    "name": "ipython",
    "version": 3
   },
   "file_extension": ".py",
   "mimetype": "text/x-python",
   "name": "python",
   "nbconvert_exporter": "python",
   "pygments_lexer": "ipython3",
   "version": "3.7.2"
  }
 },
 "nbformat": 4,
 "nbformat_minor": 4
}
