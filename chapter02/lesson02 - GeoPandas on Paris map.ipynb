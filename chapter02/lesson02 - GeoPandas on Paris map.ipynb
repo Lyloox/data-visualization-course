{
 "cells": [
  {
   "cell_type": "markdown",
   "metadata": {},
   "source": [
    "# Load & Downloads\n",
    "\n",
    "We're back to the French government website. They offer a [map of Paris' arrondissements](https://www.data.gouv.fr/fr/datasets/arrondissements-1/#_) in differents formats: CSV, JSON, GeoJSON and Shapefile.\n",
    "\n",
    "In the PDF, they give the definition of the attributes (you can skip it, I did the work for you)\n",
    "\n",
    "1. Let's go out of our comfort zone and download the **Shapefile** format. \n",
    "* Move it to this folder (`chapter02`) and unzip it. On Linux or MacOs, you can use `unzip arrondissements.zip`."
   ]
  },
  {
   "cell_type": "code",
   "execution_count": null,
   "metadata": {},
   "outputs": [],
   "source": [
    "# Load packages\n",
    "import geopandas\n",
    "import shapely\n",
    "\n",
    "import numpy as np\n",
    "import pandas as pd\n",
    "\n",
    "import matplotlib.pyplot as plt\n",
    "from mpl_toolkits.axes_grid1 import make_axes_locatable\n",
    "import missingno\n",
    "\n",
    "\n",
    "%matplotlib inline"
   ]
  },
  {
   "cell_type": "markdown",
   "metadata": {},
   "source": [
    "# Paris Map"
   ]
  },
  {
   "cell_type": "code",
   "execution_count": null,
   "metadata": {},
   "outputs": [],
   "source": [
    "paris_df = geopandas.read_file(\"arrondissements.shp\", encoding=\"utf-8\")\n",
    "paris_df.head()"
   ]
  },
  {
   "cell_type": "code",
   "execution_count": null,
   "metadata": {},
   "outputs": [],
   "source": [
    "paris_df.plot(figsize=(18, 12))"
   ]
  },
  {
   "cell_type": "markdown",
   "metadata": {},
   "source": [
    "Yay! It's Paris."
   ]
  },
  {
   "cell_type": "markdown",
   "metadata": {},
   "source": [
    "# Trees Map\n",
    "\n",
    "Now, download the [les-arbres.csv](https://raw.githubusercontent.com/alexisperrier/upem_python0918/master/jour_07/les-arbres.csv) file.\n",
    "\n",
    "Tips: if you are on Linux or MacOS, you can use `wget` to download the file by link:   \n",
    "`wget \"https://raw.githubusercontent.com/alexisperrier/upem_python0918/master/jour_07/les-arbres.csv\"`\n",
    "\n",
    "Then, move it to this folder (`chapter02`)."
   ]
  },
  {
   "cell_type": "code",
   "execution_count": null,
   "metadata": {},
   "outputs": [],
   "source": [
    "trees = pd.read_csv('les-arbres.csv', sep=';', error_bad_lines=False)\n",
    "trees.head()"
   ]
  },
  {
   "cell_type": "code",
   "execution_count": null,
   "metadata": {},
   "outputs": [],
   "source": [
    "missingno.matrix(trees)"
   ]
  },
  {
   "cell_type": "markdown",
   "metadata": {},
   "source": [
    "For clarity, let's drop the columns with a lot of missing values."
   ]
  },
  {
   "cell_type": "code",
   "execution_count": null,
   "metadata": {},
   "outputs": [],
   "source": [
    "trees = trees.drop(['COMPLEMENTADRESSE', 'NUMERO', 'VARIETEOUCULTIVAR'], axis=1)\n",
    "trees.describe()"
   ]
  },
  {
   "cell_type": "markdown",
   "metadata": {},
   "source": [
    "## DataFrame.str methods\n",
    "\n",
    "DataSeries (i.e. a column of a DataFrame) offer methods to operate on each element of the array. They exclude missing values automatically.\n",
    "\n",
    "Exhaustive list of provided str methods:\n",
    "* lower(): transform to lowercase\n",
    "* upper(): transform to uppercase\n",
    "* len(): returns the length of the string\n",
    "* count(char): count the number of char occurrences\n",
    "* strip(): removes whitespaces at the start and at the end of the string\n",
    "* contains(s2): returns True if the string contains s2, false otherwise"
   ]
  },
  {
   "cell_type": "code",
   "execution_count": null,
   "metadata": {},
   "outputs": [],
   "source": [
    "s = pd.Series(['A', 'B', 'C', \n",
    "               'Never gonna give you up', 'Never gonna let you down', \n",
    "               'Never gonna run arOoOounnnd', 'and desert you.', \n",
    "               'never gonna give', 'nEvEr gOnNa gIvE',\n",
    "               'Give you UP!'], dtype=\"string\")\n",
    "\n",
    "s.str.lower()"
   ]
  },
  {
   "cell_type": "code",
   "execution_count": null,
   "metadata": {},
   "outputs": [],
   "source": [
    "s.str.count(\"e\")"
   ]
  },
  {
   "cell_type": "markdown",
   "metadata": {},
   "source": [
    "You can also chain them:"
   ]
  },
  {
   "cell_type": "code",
   "execution_count": null,
   "metadata": {},
   "outputs": [],
   "source": [
    "s.str.lower().str.count(\"e\")"
   ]
  },
  {
   "cell_type": "markdown",
   "metadata": {},
   "source": [
    "And use Boolean masks"
   ]
  },
  {
   "cell_type": "code",
   "execution_count": null,
   "metadata": {},
   "outputs": [],
   "source": [
    "s[s.str.lower().str.count(\"e\") > 2]"
   ]
  },
  {
   "cell_type": "markdown",
   "metadata": {},
   "source": [
    "Now, use `str.contains` to keep only the trees that are in Paris."
   ]
  },
  {
   "cell_type": "code",
   "execution_count": null,
   "metadata": {},
   "outputs": [],
   "source": [
    "trees[\"ARRONDISSEMENT\"].unique()"
   ]
  },
  {
   "cell_type": "code",
   "execution_count": null,
   "metadata": {},
   "outputs": [],
   "source": [
    "# TODO: Complete this line to only keep trees that are in Paris using `str` methods\n",
    "paris_trees = trees\n",
    "paris_trees"
   ]
  },
  {
   "cell_type": "markdown",
   "metadata": {},
   "source": [
    "## Merge arrondissements from both maps\n",
    "\n",
    "#### First, the Paris Map"
   ]
  },
  {
   "cell_type": "markdown",
   "metadata": {},
   "source": [
    "We will merge both maps on arrondissements.\n",
    "\n",
    "We will transform them to integers, for example `10` for the 10th arrondissement. \n",
    "\n",
    "Use `apply` like we did before to convert the type of the `c_ar` column. The `int()` built-in will be useful."
   ]
  },
  {
   "cell_type": "code",
   "execution_count": null,
   "metadata": {},
   "outputs": [],
   "source": [
    "int(\"42\")  # Convert a string to an int"
   ]
  },
  {
   "cell_type": "code",
   "execution_count": null,
   "metadata": {},
   "outputs": [],
   "source": [
    "# TODO: Use `apply` to convert float-type `c_arinsee` to int type.\n",
    "paris_df.loc[:, \"c_ar\"] = paris_df[\"c_ar\"]\n",
    "paris_df.head()"
   ]
  },
  {
   "cell_type": "markdown",
   "metadata": {},
   "source": [
    "#### Then, the Trees Map"
   ]
  },
  {
   "cell_type": "code",
   "execution_count": null,
   "metadata": {},
   "outputs": [],
   "source": [
    "paris_trees[\"ARRONDISSEMENT\"]"
   ]
  },
  {
   "cell_type": "markdown",
   "metadata": {},
   "source": [
    "Now let's convert a string looking like `PARIS 11E ARRDT` to a int `11`.\n",
    "\n",
    "Use the slicing we learnt with NumPy to get the 2 characters before the character \"E\". (reminder: `[i:j:k]` or `[start:stop:step]`)"
   ]
  },
  {
   "cell_type": "code",
   "execution_count": null,
   "metadata": {},
   "outputs": [],
   "source": [
    "def get_arrdt(s):\n",
    "    if type(s) is not str:\n",
    "        return 41\n",
    "    e_index = s.find(\"E\")\n",
    "    # TODO: Use `e_index` (the index of the letter 'E') to get the 2 characters before it in the string `s`.\n",
    "    two_chars_before_e = \"42\"\n",
    "    return int(two_chars_before_e)\n",
    "    \n",
    "print(get_arrdt(\"PARIS 8E ARRDT\"))\n",
    "print(get_arrdt(\"PARIS 11E ARRDT\"))"
   ]
  },
  {
   "cell_type": "code",
   "execution_count": null,
   "metadata": {},
   "outputs": [],
   "source": [
    "paris_trees.loc[:, \"c_ar\"] = paris_trees[\"ARRONDISSEMENT\"].apply(get_arrdt)\n",
    "# If you have a red warning below, check that the \"c_ar\" column exists and only have integer values like '10', '11', '8', ...\n",
    "# If that's the case: it worked and you can continue. Otherwise, try to debug yourself or call me for help\n",
    "paris_trees"
   ]
  },
  {
   "cell_type": "markdown",
   "metadata": {},
   "source": [
    "Now, let's convert the Geolocation to a `shapely` `Point`.  \n",
    "To do the conversion we have to analyse what we already have."
   ]
  },
  {
   "cell_type": "code",
   "execution_count": null,
   "metadata": {},
   "outputs": [],
   "source": [
    "first_geoloc = paris_trees[\"geo_point_2d\"][0]\n",
    "print(type(first_geoloc))\n",
    "print(first_geoloc)"
   ]
  },
  {
   "cell_type": "code",
   "execution_count": null,
   "metadata": {},
   "outputs": [],
   "source": [
    "def string2point(s):\n",
    "    s = s.split(\", \")\n",
    "    longlat = [float(s[1]), float(s[0])]  # (48, 2) refers to (Lat, Long) meanwhile the wanted syntax is (Long, Lat)\n",
    "    return shapely.geometry.Point(longlat)\n",
    "    \n",
    "p = string2point(\"48.8259993388, 2.32878574525\")\n",
    "print(p)\n",
    "p"
   ]
  },
  {
   "cell_type": "code",
   "execution_count": null,
   "metadata": {},
   "outputs": [],
   "source": [
    "paris_trees.loc[:, \"geometry\"] = paris_trees[\"geo_point_2d\"].apply(string2point)\n",
    "paris_trees"
   ]
  },
  {
   "cell_type": "code",
   "execution_count": null,
   "metadata": {},
   "outputs": [],
   "source": [
    "paris_trees = geopandas.GeoDataFrame(paris_trees, geometry='geometry')\n",
    "paris_trees"
   ]
  },
  {
   "cell_type": "markdown",
   "metadata": {},
   "source": [
    "# Display the Tree Map on the Paris Map"
   ]
  },
  {
   "cell_type": "code",
   "execution_count": null,
   "metadata": {},
   "outputs": [],
   "source": [
    "paris_trees.plot()"
   ]
  },
  {
   "cell_type": "code",
   "execution_count": null,
   "metadata": {},
   "outputs": [],
   "source": [
    "paris_df.plot()"
   ]
  },
  {
   "cell_type": "code",
   "execution_count": null,
   "metadata": {},
   "outputs": [],
   "source": [
    "fig, ax = plt.subplots(1, figsize=(18, 12))\n",
    "\n",
    "# Plotting the Paris map\n",
    "base = paris_df.plot(ax=ax, \n",
    "                     color='#d9d9d9')\n",
    "\n",
    "# Plotting the trees\n",
    "paris_trees.plot(ax=base, \n",
    "                 color='#669966', \n",
    "                 marker=\"^\", \n",
    "                 markersize=1);\n",
    "\n",
    "plt.show()"
   ]
  },
  {
   "cell_type": "markdown",
   "metadata": {},
   "source": [
    "# Choropleth Map\n",
    "\n",
    "## Display the number of trees by arrondissement\n",
    "\n",
    "First, let's use `groupby` to group the trees by arrondissements."
   ]
  },
  {
   "cell_type": "code",
   "execution_count": null,
   "metadata": {},
   "outputs": [],
   "source": [
    "nb_trees = paris_trees.groupby('c_ar').count()[[\"IDBASE\"]]\n",
    "nb_trees"
   ]
  },
  {
   "cell_type": "markdown",
   "metadata": {},
   "source": [
    "Because we have grouped all the rows based on the `c_ar` column, `c_ar` became an index. We can undo the indexing using `reset_index`."
   ]
  },
  {
   "cell_type": "code",
   "execution_count": null,
   "metadata": {},
   "outputs": [],
   "source": [
    "nb_trees.reset_index(inplace=True)\n",
    "nb_trees"
   ]
  },
  {
   "cell_type": "code",
   "execution_count": null,
   "metadata": {},
   "outputs": [],
   "source": [
    "merged = paris_df.merge(nb_trees, on=\"c_ar\")\n",
    "merged"
   ]
  },
  {
   "cell_type": "code",
   "execution_count": null,
   "metadata": {},
   "outputs": [],
   "source": [
    "fig, ax = plt.subplots(1, figsize=(18, 10))\n",
    "\n",
    "divider = make_axes_locatable(ax)\n",
    "cax = divider.append_axes(\"right\", size=\"5%\", pad=0.1)\n",
    "\n",
    "merged.plot(ax=ax,\n",
    "            cax=cax,\n",
    "            column=\"IDBASE\",\n",
    "            cmap=\"YlGn\",\n",
    "            legend=True)\n",
    "\n",
    "plt.show()"
   ]
  },
  {
   "cell_type": "markdown",
   "metadata": {},
   "source": [
    "We can also change the legend's orientation, and add the location of the trees on the map.\n",
    "\n",
    "We used the `alpha` keyword to lower the opacity of the trees."
   ]
  },
  {
   "cell_type": "code",
   "execution_count": null,
   "metadata": {},
   "outputs": [],
   "source": [
    "fig, ax = plt.subplots(1, figsize=(18, 10))\n",
    "\n",
    "merged.plot(ax=ax,\n",
    "            column=\"IDBASE\",\n",
    "            cmap=\"YlGn\",\n",
    "            legend=True,\n",
    "            legend_kwds={'label': \"Number of trees by arrondissement\",\n",
    "                         'orientation': \"horizontal\"})\n",
    "\n",
    "paris_trees.plot(ax=ax, \n",
    "                 alpha=0.1, \n",
    "                 color='#333333', \n",
    "                 marker=\"^\", \n",
    "                 markersize=1)\n",
    "\n",
    "plt.show()"
   ]
  },
  {
   "cell_type": "markdown",
   "metadata": {},
   "source": [
    "Now, let's display the tree color based on their height."
   ]
  },
  {
   "cell_type": "code",
   "execution_count": null,
   "metadata": {},
   "outputs": [],
   "source": [
    "fig, ax = plt.subplots(1, figsize=(18, 10))\n",
    "\n",
    "divider = make_axes_locatable(ax)\n",
    "cax = divider.append_axes(\"right\", size=\"5%\", pad=0.1)\n",
    "\n",
    "merged.plot(ax=ax,\n",
    "            column=\"IDBASE\",\n",
    "            cmap=\"YlGn\",\n",
    "            legend=True,\n",
    "            legend_kwds={'label': \"Number of trees by arrondissement\",\n",
    "                         'orientation': \"horizontal\"})\n",
    "\n",
    "paris_trees.plot(ax=ax,\n",
    "                 cax=cax,\n",
    "                 column=\"HAUTEUR (m)\",\n",
    "                 cmap=\"Greys\", \n",
    "                 alpha=0.1,\n",
    "                 marker=\"*\", \n",
    "                 markersize=1,\n",
    "                 legend=True,\n",
    "                 label=\"Tree circonference (cm)\");\n",
    "\n",
    "plt.show()"
   ]
  },
  {
   "cell_type": "markdown",
   "metadata": {},
   "source": [
    "Why are all the trees black?\n",
    "\n",
    "Let's examine the data."
   ]
  },
  {
   "cell_type": "code",
   "execution_count": null,
   "metadata": {},
   "outputs": [],
   "source": [
    "paris_trees.describe()"
   ]
  },
  {
   "cell_type": "code",
   "execution_count": null,
   "metadata": {},
   "outputs": [],
   "source": [
    "paris_trees[paris_trees[\"HAUTEUR (m)\"] > 1000].count()"
   ]
  },
  {
   "cell_type": "code",
   "execution_count": null,
   "metadata": {},
   "outputs": [],
   "source": [
    "paris_trees[paris_trees[\"HAUTEUR (m)\"] > 30].count()"
   ]
  },
  {
   "cell_type": "markdown",
   "metadata": {},
   "source": [
    "So there is only 17 trees with a height higher than 1000m, and 516 are higher than 30m, out of **160 000+ trees**.  \n",
    "Let's remove them and display the color map again."
   ]
  },
  {
   "cell_type": "code",
   "execution_count": null,
   "metadata": {},
   "outputs": [],
   "source": [
    "paris_trees = paris_trees[paris_trees[\"HAUTEUR (m)\"] < 30]"
   ]
  },
  {
   "cell_type": "code",
   "execution_count": null,
   "metadata": {},
   "outputs": [],
   "source": [
    "fig, ax = plt.subplots(1, figsize=(18, 10))\n",
    "\n",
    "divider = make_axes_locatable(ax)\n",
    "cax = divider.append_axes(\"right\", size=\"5%\", pad=0.1)\n",
    "\n",
    "merged.plot(ax=ax,\n",
    "            column=\"IDBASE\",\n",
    "            cmap=\"Greys\",\n",
    "            legend=True,\n",
    "            legend_kwds={'label': \"Number of trees by arrondissement\",\n",
    "                         'orientation': \"horizontal\"})\n",
    "\n",
    "paris_trees.plot(ax=ax,\n",
    "                 cax=cax,\n",
    "                 column=\"HAUTEUR (m)\",\n",
    "                 cmap=\"YlGn\", \n",
    "                 alpha=0.1,\n",
    "                 marker=\"*\", \n",
    "                 markersize=2,\n",
    "                 legend=True,\n",
    "                 label=\"Tree circonference (cm)\");\n",
    "\n",
    "plt.show()"
   ]
  },
  {
   "cell_type": "markdown",
   "metadata": {},
   "source": [
    "It's the end of this Notebook!\n",
    "\n",
    "You can now start the Project for the next course."
   ]
  }
 ],
 "metadata": {
  "kernelspec": {
   "display_name": "Python 3",
   "language": "python",
   "name": "python3"
  },
  "language_info": {
   "codemirror_mode": {
    "name": "ipython",
    "version": 3
   },
   "file_extension": ".py",
   "mimetype": "text/x-python",
   "name": "python",
   "nbconvert_exporter": "python",
   "pygments_lexer": "ipython3",
   "version": "3.7.2"
  }
 },
 "nbformat": 4,
 "nbformat_minor": 4
}
