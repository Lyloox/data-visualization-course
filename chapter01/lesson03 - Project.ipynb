{
 "cells": [
  {
   "cell_type": "markdown",
   "metadata": {},
   "source": [
    "# Your Project\n",
    "\n",
    "It's time to treat yourself.\n",
    "\n",
    "Look for the funnier or more interesting dataset in your opinion from [data.gouv.fr](https://www.data.gouv.fr/fr/datasets/?sort=-created) and\n",
    "* Copy paste the link of the dataset from data.gouv.fr and print it in the first cell\n",
    "* Output **at least five different graphs** on this notebook\n",
    "* Send this file (after having read `Saving Tips` below) in my inbox: laure.daumal@ext.devinci.fr before next course (deadline Thursday 6th, 23:42)\n",
    "\n",
    "Make them creative, beautiful, *send glitter in my eyes* and of course, let all the steps appear here: from loading the file, through the cleanup to the plotting. \n",
    "\n",
    "Assume I have downloaded the file and moved it in the same folder than this .ipynb file.\n",
    "\n",
    "## Saving Tips\n",
    "\n",
    "Click on **Cell >> All Output >> Clear** before saving. It will clear the cell outputs, making it lighter on your hard drive and mine.\n",
    "\n",
    "If you want to run all cells when coming back to your file (recommended before sending it to me), click on **Cell >> Run All**."
   ]
  },
  {
   "cell_type": "code",
   "execution_count": null,
   "metadata": {
    "scrolled": true
   },
   "outputs": [],
   "source": [
    "print(\"Don't forget to print the link of the dataset you chose!\")"
   ]
  }
 ],
 "metadata": {
  "kernelspec": {
   "display_name": "Python 3",
   "language": "python",
   "name": "python3"
  },
  "language_info": {
   "codemirror_mode": {
    "name": "ipython",
    "version": 3
   },
   "file_extension": ".py",
   "mimetype": "text/x-python",
   "name": "python",
   "nbconvert_exporter": "python",
   "pygments_lexer": "ipython3",
   "version": "3.7.2"
  }
 },
 "nbformat": 4,
 "nbformat_minor": 4
}
