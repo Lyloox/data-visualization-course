{
 "cells": [
  {
   "cell_type": "markdown",
   "metadata": {},
   "source": [
    "# Matplotlib\n",
    "\n",
    "Matplotlib is a Python 2D plotting library.\n",
    "\n",
    "The [matplotlib.org](http://matplotlib.org) project website is the primary online resource for the library's documentation. It contains:\n",
    "* [Extensive documentation of PyPlot](https://matplotlib.org/api/pyplot_api.html),\n",
    "* [Example galleries](https://matplotlib.org/gallery/index.html), \n",
    "* [FAQs](http://matplotlib.org/faq/index.html), \n",
    "* [API documentation](http://matplotlib.org/api/index.html),\n",
    "* [Tutorials](https://matplotlib.org/tutorials/index.html)."
   ]
  },
  {
   "cell_type": "markdown",
   "metadata": {},
   "source": [
    "Matplotlib has multiple \"backends\" that handle converting Matplotlib's in-memory representation of your plot into the colorful output you can look at. This is done either by writing files (e.g., png, svg, pdf) that you can use an external tool to look at or by embedding into your GUI toolkit of choice (Qt, Tk, Wx, etc).\n",
    "\n",
    "To check what backend Matplotlib is currently using:"
   ]
  },
  {
   "cell_type": "code",
   "execution_count": null,
   "metadata": {},
   "outputs": [],
   "source": [
    "import matplotlib\n",
    "import matplotlib.pyplot as plt\n",
    "\n",
    "print(matplotlib.__version__)\n",
    "print(matplotlib.get_backend())"
   ]
  },
  {
   "cell_type": "markdown",
   "metadata": {},
   "source": [
    "If you have problems with plotting in Jupyter Notebook, change your backend to `nbagg` by uncommenting below code. \n",
    "\n",
    "You must do it before importing `matplotlib.pyplot`."
   ]
  },
  {
   "cell_type": "code",
   "execution_count": null,
   "metadata": {},
   "outputs": [],
   "source": [
    "# matplotlib.use('nbagg')\n",
    "print(matplotlib.get_backend())\n",
    "\n",
    "import matplotlib.pyplot as plt"
   ]
  },
  {
   "cell_type": "markdown",
   "metadata": {},
   "source": [
    "## Basic Plotting (Line)\n",
    "\n",
    "### Using Pyplot"
   ]
  },
  {
   "cell_type": "code",
   "execution_count": null,
   "metadata": {},
   "outputs": [],
   "source": [
    "import numpy as np\n",
    "\n",
    "# Data for plotting\n",
    "t = np.arange(0.0, 2.0, 0.01)\n",
    "s = 1 + np.sin(2 * np.pi * t)\n",
    "\n",
    "print(\"First five items of t and s:\")\n",
    "print(\"t:\", t[:5])\n",
    "print(\"s:\", s[:5])\n",
    "\n",
    "# Add data / axes to the Figure\n",
    "plt.plot(t, s)\n",
    "plt.show()"
   ]
  },
  {
   "cell_type": "markdown",
   "metadata": {},
   "source": [
    "### Using Axes method\n",
    "\n",
    "You can see the `XAxis` horizontally and the `YAxis` vertically. Each `Axes` has an `XAxis` and a `YAxis`.\n",
    "\n",
    "The `Figure` is the top-level container in this hierarchy. It is the overall window/page that everything is drawn on. You can have multiple independent figures and `Figures` can contain multiple `Axes`.\n",
    "\n",
    "`Subplot` are `Axes` on a regular grid system, so they are synonymous in most cases."
   ]
  },
  {
   "cell_type": "code",
   "execution_count": null,
   "metadata": {},
   "outputs": [],
   "source": [
    "# Set up a Figure and put a green background to it (color = (R, V, B, Opacity)), so you can view what it is\n",
    "fig = plt.figure(facecolor=(0, 1, 0, .1)) \n",
    "\n",
    "# Set up Axes on our Figure \n",
    "ax = fig.add_subplot(111) # \"111\" is the subplot specification in 3-digit. Basically it means 1 row and 1 column.\n",
    "\n",
    "ax.set(title='Axes Example',\n",
    "       ylabel='Y-Axis: s', \n",
    "       xlabel='X-Axis: t')\n",
    "\n",
    "ax.plot(t, s)\n",
    "\n",
    "plt.show()"
   ]
  },
  {
   "cell_type": "markdown",
   "metadata": {},
   "source": [
    "The Pyplot method may seems better because the code is shorter and simplier, but it is also very implicit, which is against Python's principles.\n",
    "\n",
    "When doing more complicated plots, it will be better to explicitely set up Axes and Figures objects. And especially when working with multiple axes in one figure.\n",
    "\n",
    "If you're not convinced, take the time to read `The Zen of Python` by running the Easter Egg below."
   ]
  },
  {
   "cell_type": "code",
   "execution_count": null,
   "metadata": {},
   "outputs": [],
   "source": [
    "import this"
   ]
  },
  {
   "cell_type": "markdown",
   "metadata": {},
   "source": [
    "Anyway, we're still using the Axes method for this course.\n",
    "\n",
    "You can also use `plt.subplots` to get a Figure with one Axe in one line.\n",
    "\n",
    "It means this code:\n",
    "\n",
    "```\n",
    "fig = plt.figure()\n",
    "ax = fig.add_subplot(111)\n",
    "```\n",
    "\n",
    "\n",
    "Is equivalent to this one:\n",
    "\n",
    "```\n",
    "fig, ax = plt.subplots()\n",
    "```"
   ]
  },
  {
   "cell_type": "code",
   "execution_count": null,
   "metadata": {},
   "outputs": [],
   "source": [
    "fig, ax = plt.subplots()\n",
    "\n",
    "ax.set(title='Axes Props Customization Example',\n",
    "       ylabel='Y-Axis: s', \n",
    "       xlabel='X-Axis: t')\n",
    "\n",
    "ax.grid(True, linestyle='-.')\n",
    "ax.tick_params(labelcolor='g', labelsize='medium', width=3)\n",
    "\n",
    "ax.plot(t, s)\n",
    "\n",
    "plt.show()"
   ]
  },
  {
   "cell_type": "markdown",
   "metadata": {},
   "source": [
    "# Pandas\n",
    "\n",
    "Pandas helps you transform data from CSV, JSON, databases like SQL and other formats to a `DataFrame`.\n",
    "\n",
    "Pandas can easily interact with NumPy methods.\n",
    "\n"
   ]
  },
  {
   "cell_type": "code",
   "execution_count": null,
   "metadata": {},
   "outputs": [],
   "source": [
    "import pandas as pd\n",
    "\n",
    "# Example data\n",
    "data = {'Year': [1920,1930,1940,1950,1960,1970,1980,1990,2000,2010],\n",
    "        'Unemployment_Rate': [9.8,12,8,7.2,6.9,7,6.5,6.2,5.5,6.3]\n",
    "       }\n",
    "  \n",
    "df = pd.DataFrame(data, columns=data.keys())\n",
    "print(df)"
   ]
  },
  {
   "cell_type": "markdown",
   "metadata": {},
   "source": [
    "## Basic plotting using pandas DataFrame"
   ]
  },
  {
   "cell_type": "code",
   "execution_count": null,
   "metadata": {},
   "outputs": [],
   "source": [
    "df.plot(x ='Year', y=\"Unemployment_Rate\", kind='line')"
   ]
  },
  {
   "cell_type": "code",
   "execution_count": null,
   "metadata": {},
   "outputs": [],
   "source": [
    "df.plot(x ='Year', y=\"Unemployment_Rate\", kind='scatter')"
   ]
  },
  {
   "cell_type": "markdown",
   "metadata": {},
   "source": [
    "## Bar Chart\n",
    "\n",
    "We'll make up a simple example before using data from our DataFrame."
   ]
  },
  {
   "cell_type": "code",
   "execution_count": null,
   "metadata": {},
   "outputs": [],
   "source": [
    "# Example values.\n",
    "\n",
    "data = {'Animal': [\"Renard\", \"Loutre\", \"Panda roux\", \"Écureuil\", \"Chèvre\", \"Hyène\"],\n",
    "        \"Votes\": [47, 36, 30, 27, 14, 2]\n",
    "       }"
   ]
  },
  {
   "cell_type": "markdown",
   "metadata": {},
   "source": [
    "To make a bar chart using Matplotlib, use `plt.bar(x, y)`"
   ]
  },
  {
   "cell_type": "code",
   "execution_count": null,
   "metadata": {},
   "outputs": [],
   "source": [
    "fig, ax = plt.subplots()\n",
    "\n",
    "ax.set(title=\"Résultat du sondage :\\n\" \\\n",
    "              \"Si c'était possible, quel animal voudriez-vous avoir comme animal de compagnie ?\",\n",
    "       ylabel='Pourcentage de gens ayant voté pour', \n",
    "       xlabel='Animal')\n",
    "\n",
    "ax.bar(data[\"Animal\"], data[\"Votes\"])\n",
    "plt.show()"
   ]
  },
  {
   "cell_type": "markdown",
   "metadata": {},
   "source": [
    "You can make horizontal bar chart using `plt.barh(x, y)`"
   ]
  },
  {
   "cell_type": "code",
   "execution_count": null,
   "metadata": {},
   "outputs": [],
   "source": [
    "fig, ax = plt.subplots()\n",
    "\n",
    "ax.set(title=\"Résultat du sondage :\\n\" \\\n",
    "              \"Si c'était possible, quel animal voudriez-vous avoir comme animal de compagnie ?\",\n",
    "       xlabel='Pourcentage de gens ayant voté pour', \n",
    "       ylabel='Animal')\n",
    "\n",
    "ax.barh(data[\"Animal\"], data[\"Votes\"])\n",
    "plt.show()"
   ]
  },
  {
   "cell_type": "markdown",
   "metadata": {},
   "source": [
    "To make a bar chart using `df.plot`, specify `kind='bar'`."
   ]
  },
  {
   "cell_type": "code",
   "execution_count": null,
   "metadata": {},
   "outputs": [],
   "source": [
    "df = pd.DataFrame(data, columns=data.keys())\n",
    "df.plot(x ='Animal', y=\"Votes\", kind='bar')"
   ]
  },
  {
   "cell_type": "markdown",
   "metadata": {},
   "source": [
    "And `kind='barh'` for horizontal ones."
   ]
  },
  {
   "cell_type": "code",
   "execution_count": null,
   "metadata": {},
   "outputs": [],
   "source": [
    "df.plot(x ='Animal', y=\"Votes\", kind='barh')"
   ]
  },
  {
   "cell_type": "markdown",
   "metadata": {},
   "source": [
    "## Pie Chart\n",
    "\n"
   ]
  },
  {
   "cell_type": "code",
   "execution_count": null,
   "metadata": {},
   "outputs": [],
   "source": [
    "data = {'Tasks': [300,500,700]}\n",
    "labels = ['Tasks Pending','Tasks Ongoing','Tasks Completed']\n",
    "\n",
    "explode = (0, 0.1, 0)  # only \"explode\" the 2nd slice (i.e. 'Tasks Ongoing')\n",
    "\n",
    "fig, ax = plt.subplots()\n",
    "ax.pie(data['Tasks'], explode=explode, labels=labels, autopct='%1.1f%%', shadow=True, startangle=90)\n",
    "ax.axis('equal')  # Equal aspect ratio ensures that pie is drawn as a circle.\n",
    "\n",
    "plt.show()"
   ]
  },
  {
   "cell_type": "code",
   "execution_count": null,
   "metadata": {},
   "outputs": [],
   "source": [
    "df = pd.DataFrame(data, columns=['Tasks'], index=labels)\n",
    "\n",
    "df.plot.pie(y='Tasks', figsize=(5, 5), autopct='%1.1f%%', startangle=90)"
   ]
  },
  {
   "cell_type": "markdown",
   "metadata": {},
   "source": [
    "# Open Food Facts\n",
    "\n",
    "In real life, data is almost never in the ideal shape for us to plot.\n",
    "\n",
    "First, we will work together step by step to overcome basic challenges. Then you will have to do this yourself on another dataset.\n",
    "\n",
    "We will use structured data in a .csv file provided by from data.gouv.fr: please download the [Open Food Facts sheet](https://www.data.gouv.fr/fr/datasets/open-food-facts-produits-alimentaires-ingredients-nutrition-labels/#) (the first one) and place it in this folder (`chapter01`)."
   ]
  },
  {
   "cell_type": "code",
   "execution_count": null,
   "metadata": {},
   "outputs": [],
   "source": [
    "df = pd.read_csv(\"fr.openfoodfacts.org.products.csv\", delimiter=\"\\t\")"
   ]
  },
  {
   "cell_type": "code",
   "execution_count": null,
   "metadata": {},
   "outputs": [],
   "source": [
    "df.info()"
   ]
  },
  {
   "cell_type": "code",
   "execution_count": null,
   "metadata": {},
   "outputs": [],
   "source": [
    "df"
   ]
  },
  {
   "cell_type": "code",
   "execution_count": null,
   "metadata": {},
   "outputs": [],
   "source": [
    "print(df.columns)"
   ]
  },
  {
   "cell_type": "markdown",
   "metadata": {},
   "source": [
    "You can see that our dataset is huge: there is more than 1 million of rows and 178 columns. \n",
    "\n",
    "It contains lots of missing data - parsed as \"NaN\" by Pandas.\n",
    "\n",
    "Working with missing data is a common task in Data Science. Pandas provides the `isna()` and `notna()` functions to detect them."
   ]
  },
  {
   "cell_type": "code",
   "execution_count": null,
   "metadata": {},
   "outputs": [],
   "source": [
    "pd.isna(df['generic_name'])"
   ]
  },
  {
   "cell_type": "markdown",
   "metadata": {},
   "source": [
    "Using what we learnt in Lesson01, print the **number of missing value** for specified columns."
   ]
  },
  {
   "cell_type": "code",
   "execution_count": null,
   "metadata": {},
   "outputs": [],
   "source": [
    "# TODO: print the number of missing value for the column \"generic_name\".\n",
    "# Hint: use Boolean Masks.\n",
    "print()\n",
    "\n",
    "# TODO: print the number of missing value for the column \"energy-kcal_100g\".\n",
    "print()"
   ]
  },
  {
   "cell_type": "markdown",
   "metadata": {},
   "source": [
    "You can use `df[column].unique()` to get the list of unique values contained in the specified `column`."
   ]
  },
  {
   "cell_type": "code",
   "execution_count": null,
   "metadata": {},
   "outputs": [],
   "source": [
    "# TODO: print the number of unique values for the column \"nutriscore_score\".\n",
    "print()"
   ]
  },
  {
   "cell_type": "markdown",
   "metadata": {},
   "source": [
    "Great. Now let's use the Boolean masks to reduce our data: we only want lines with a value for the columns we want to investigate on."
   ]
  },
  {
   "cell_type": "code",
   "execution_count": null,
   "metadata": {},
   "outputs": [],
   "source": [
    "interesting_columns =  [\"product_name\", \"generic_name\",\n",
    "                        \"created_datetime\",\n",
    "                        \"main_category_fr\", \"countries_fr\",\n",
    "                        \"nutriscore_score\", \n",
    "                        \"energy_100g\", \"proteins_100g\", \"carbohydrates_100g\", \"fat_100g\"]\n",
    "\n",
    "nutriscores = df[interesting_columns]\n",
    "nutriscores"
   ]
  },
  {
   "cell_type": "code",
   "execution_count": null,
   "metadata": {},
   "outputs": [],
   "source": [
    "for col in interesting_columns:\n",
    "    nutriscores = nutriscores[pd.notna(nutriscores[col])]\n",
    "nutriscores"
   ]
  },
  {
   "cell_type": "markdown",
   "metadata": {},
   "source": [
    "Hourray! We reduced our rows from 1 million to 74k.\n",
    "\n",
    "Now, we can use data visualization to answer to some questions.\n",
    "Let's start with the first one:\n",
    "\n",
    "## How many products are there per country?\n",
    "\n",
    "We assumed the best way to display that is with **Bar Chart**.\n",
    "\n",
    "Ideally, we would like unique countries on the axis X, and the corresponding number of products on the axis Y.\n",
    "\n",
    "Let's start by creating our axis X. "
   ]
  },
  {
   "cell_type": "code",
   "execution_count": null,
   "metadata": {},
   "outputs": [],
   "source": [
    "unique_countries = nutriscores[\"countries_fr\"].unique()\n",
    "\n",
    "print(len(unique_countries))\n",
    "print(unique_countries)"
   ]
  },
  {
   "cell_type": "markdown",
   "metadata": {},
   "source": [
    "We see that there may be different countries for one product, separated by a comma.\n",
    "\n",
    "A lot of possibilies exist to deal with this. The simplier are:\n",
    "\n",
    "* Create a dictionary `{countryName: listOfProducts}` and then use keys as a x-axis and length of values as y-axis.\n",
    "\n",
    "To iter on a DataFrame, we use the generator `df.iterrows()`\n",
    "\n",
    "Downside: it will take a long time, as we will use Python built-in for loops to iterate over our 74k rows.\n",
    "\n",
    "* Make a list of all unique countries. Use boolean masks to count each product than contains its name in this column.\n",
    "\n",
    "This method will use Pandas algorithms and will be quicker. Let's get to it!"
   ]
  },
  {
   "cell_type": "code",
   "execution_count": null,
   "metadata": {},
   "outputs": [],
   "source": [
    "# Get the real set of unique countries\n",
    "country_set = set()\n",
    "for country_list in unique_countries:\n",
    "    for country in country_list.split(\",\"):\n",
    "        country_set.add(country)\n",
    "\n",
    "print(len(country_set))\n",
    "print(country_set)"
   ]
  },
  {
   "cell_type": "markdown",
   "metadata": {},
   "source": [
    "Below, we define a function `country_is_in` that takes variables `iterable` and `country` as **arguments**, and return a boolean mask.\n",
    "\n",
    "In Python, typing is not necessary, but is helpful. It also makes the behavior of a function clearer for everyone : you, your colleagues, and the future you in 6 months that forgot why you wrote these functions and what they do. We will dig into that later.\n",
    "\n",
    "It is also helpful while coding:\n",
    "* If you code with an IDE, it will tell you when their is a type mismatch, before you even run the code\n",
    "* If you run the code, it will tell you types are mismatching instead of giving you weird errors."
   ]
  },
  {
   "cell_type": "code",
   "execution_count": null,
   "metadata": {},
   "outputs": [],
   "source": [
    "# Create the boolean mask\n",
    "\n",
    "from typing import List\n",
    "\n",
    "# Without typing\n",
    "def country_is_in(iterable, country):\n",
    "    return [country in c for c in iterable]\n",
    "\n",
    "# With typing\n",
    "def country_is_in(iterable: List[str], country: str) -> List[bool]:\n",
    "    return [country in c for c in iterable]\n",
    "\n",
    "# Test it\n",
    "print(country_is_in([\"Arménie\", \"France\", \"France,Malaisie\"], \"France\"))\n",
    "\n",
    "country = \"Arménie\"\n",
    "nutriscores[country_is_in(nutriscores[\"countries_fr\"].values, country)]"
   ]
  },
  {
   "cell_type": "code",
   "execution_count": null,
   "metadata": {},
   "outputs": [],
   "source": [
    "# See how Python typing can be useful when you mismatch types.\n",
    "print(country_is_in([\"Arménie\", \"France\", \"France,Malaisie\"], 666))"
   ]
  },
  {
   "cell_type": "code",
   "execution_count": null,
   "metadata": {},
   "outputs": [],
   "source": [
    "country_dict = dict.fromkeys(country_set)\n",
    "\n",
    "for country in country_set:\n",
    "    country_dict[country] = nutriscores[country_is_in(nutriscores[\"countries_fr\"].values, country)].shape[0]\n",
    "    \n",
    "print(country_dict)"
   ]
  },
  {
   "cell_type": "code",
   "execution_count": null,
   "metadata": {},
   "outputs": [],
   "source": [
    "fig, ax = plt.subplots()\n",
    "\n",
    "fig.set_size_inches(18.5, 25.5)  # Make the figure taller\n",
    "\n",
    "ax.set(title=\"Répartition des produits par pays\", \n",
    "       ylabel='Pays',\n",
    "       xlabel=\"Nombre de produits\")\n",
    "\n",
    "ax.barh(list(country_dict.keys()), list(country_dict.values()))\n",
    "plt.show()"
   ]
  },
  {
   "cell_type": "markdown",
   "metadata": {},
   "source": [
    "Let's:\n",
    "* Remove France and countries with less than 100 results so we can better see the picture.\n",
    "* Sort our dict, so the results appear more clearly.\n",
    "\n",
    "You can change the number of products minimum required to appear on the graph."
   ]
  },
  {
   "cell_type": "code",
   "execution_count": null,
   "metadata": {},
   "outputs": [],
   "source": [
    "mini_country_dict = country_dict.copy()\n",
    "removed_countries = []\n",
    "\n",
    "for key, value in country_dict.items():\n",
    "    if value <= 100:\n",
    "        mini_country_dict.pop(key)\n",
    "        removed_countries.append(key)\n",
    "        \n",
    "mini_country_dict.pop(\"France\")\n",
    "print(f\"Removed {len(removed_countries) + 1} countries. Remaining: {len(mini_country_dict)}\")\n",
    "\n",
    "mini_country_dict"
   ]
  },
  {
   "cell_type": "markdown",
   "metadata": {},
   "source": [
    "To sort our dict, we can use the built-in function `sorted`.\n",
    "\n",
    "As you can see from the Documentation (accessible when you click on the function and press Shift+Tab):\n",
    "> Signature: sorted(iterable, /, *, key=None, reverse=False)  \n",
    ">Docstring:  \n",
    ">Return a new list containing all items from the iterable in ascending order.   \n",
    "\n",
    "As we gives it a dictionary, but wants to iterate over the values and not the key, we specify what elements to sort upon by using the parameter `key`."
   ]
  },
  {
   "cell_type": "code",
   "execution_count": null,
   "metadata": {},
   "outputs": [],
   "source": [
    "from typing import Iterable\n",
    "\n",
    "def take_second_value(x: Iterable) -> int:\n",
    "    return x[1]\n",
    "\n",
    "mini_country_dict = sorted(mini_country_dict.items(), key=take_second_value)\n",
    "print(mini_country_dict)"
   ]
  },
  {
   "cell_type": "markdown",
   "metadata": {},
   "source": [
    "Instead of defining a function only for this purpose, we can use a **lambda function**.\n",
    "\n",
    "It's also called a *anonymous function*: it's a function without a name, that we define using\n",
    "\n",
    "> lambda *arguments* : *expression*\n",
    "\n",
    "\n",
    "For exemple\n",
    "\n",
    "`lambda x: x + 5`\n",
    "\n",
    "is equivalent to\n",
    "\n",
    "`def plus_five(x):\n",
    "    return x + 5`"
   ]
  },
  {
   "cell_type": "code",
   "execution_count": null,
   "metadata": {},
   "outputs": [],
   "source": [
    "mini_country_dict = sorted(mini_country_dict.items(), key=lambda x: x[1])\n",
    "print(mini_country_dict)"
   ]
  },
  {
   "cell_type": "code",
   "execution_count": null,
   "metadata": {},
   "outputs": [],
   "source": [
    "fig, ax = plt.subplots()\n",
    "fig.set_size_inches(18.5, 15.5)  # Make the figure taller\n",
    "\n",
    "ax.set(title=\"Répartition des produits par pays\", \n",
    "       ylabel='Pays',\n",
    "       xlabel=\"Nombre de produits\")\n",
    "\n",
    "ax.barh([x[0] for x in mini_country_dict], [x[1] for x in mini_country_dict])\n",
    "\n",
    "plt.show()"
   ]
  },
  {
   "cell_type": "markdown",
   "metadata": {},
   "source": [
    "Next question!\n",
    "\n",
    "## What is the product distribution for each nutriscore?\n",
    "\n",
    "Of course, our goal is to output a **Pie Chart**.\n",
    "\n",
    "We will apply this distribution only on French products.\n",
    "\n",
    "Let's explore what are the different nutriscore values."
   ]
  },
  {
   "cell_type": "code",
   "execution_count": null,
   "metadata": {},
   "outputs": [],
   "source": [
    "french_products = nutriscores[country_is_in(nutriscores[\"countries_fr\"].values, \"France\")]\n",
    "\n",
    "uniques = french_products['nutriscore_score'].unique()\n",
    "print(len(uniques))\n",
    "uniques"
   ]
  },
  {
   "cell_type": "markdown",
   "metadata": {},
   "source": [
    "Let's visualize the \"raw\" nutriscore distribution."
   ]
  },
  {
   "cell_type": "code",
   "execution_count": null,
   "metadata": {},
   "outputs": [],
   "source": [
    "y = [french_products[french_products['nutriscore_score'] == unique_val].shape[0] for unique_val in uniques]\n",
    "\n",
    "fig, ax = plt.subplots()\n",
    "fig.set_size_inches(18.5, 15.5)  # Make the figure taller\n",
    "\n",
    "ax.set(title=\"Répartition des produits par nutriscore en France\", \n",
    "       ylabel='Nutriscore',\n",
    "       xlabel=\"Nombre de produits\")\n",
    "\n",
    "ax.barh(uniques, y)\n",
    "plt.show()"
   ]
  },
  {
   "cell_type": "markdown",
   "metadata": {},
   "source": [
    "Based on that, we can make a lot of different Pie Charts.\n",
    "\n",
    "Let's say I want to show 4 pies. If the distribution were equal, we would have 1/4 of the results for each quarter (between the minimum and the maximum value) : \n",
    "\n",
    "Change the value of `number of pies`."
   ]
  },
  {
   "cell_type": "code",
   "execution_count": null,
   "metadata": {},
   "outputs": [],
   "source": [
    "score_max = max(uniques)\n",
    "score_min = min(uniques)\n",
    "\n",
    "score_range = score_max - score_min\n",
    "\n",
    "print(score_min, score_max, score_range)\n",
    "\n",
    "number_of_pies = 4\n",
    "print(f\"Percentage of each pie if were equally distributed: {1 / number_of_pies * 100}%\")\n",
    "\n",
    "def get_pies(number_of_pies: int):\n",
    "    y = []\n",
    "    labels = []\n",
    "    for i in range(number_of_pies):\n",
    "        last_threshold = threshold if i > 0 else score_min\n",
    "        # Compute labels (thresholds)\n",
    "        threshold = score_min + ((i + 1) * score_range / number_of_pies)\n",
    "        label = f\"{round(last_threshold, 2)} <= Nutriscore value <= {round(threshold, 2)}\"\n",
    "        labels.append(label)\n",
    "        # Compute number of products\n",
    "        nb = french_products[french_products['nutriscore_score'] <= threshold].shape[0]\n",
    "        y.append(nb)\n",
    "    explode = [0.1 if i == max(y) else 0 for i in y]\n",
    "    return y, labels, explode\n",
    "\n",
    "y, labels, explode = get_pies(number_of_pies)\n",
    "\n",
    "fig, ax = plt.subplots()\n",
    "\n",
    "fig.set_size_inches(18.5, 10.5)\n",
    "\n",
    "ax.pie(y, labels=labels, explode=explode, autopct='%1.1f%%', shadow=True, startangle=90)\n",
    "ax.axis('equal')  # Equal aspect ratio ensures that pie is drawn as a circle.\n",
    "\n",
    "plt.show()"
   ]
  },
  {
   "cell_type": "markdown",
   "metadata": {},
   "source": [
    "# Multiple subplots\n",
    "\n",
    "What if we wanted to display multiple pies ?\n",
    "\n",
    "You can use `plt.subplots` parameters to define your grid."
   ]
  },
  {
   "cell_type": "code",
   "execution_count": null,
   "metadata": {},
   "outputs": [],
   "source": [
    "fig, ax = plt.subplots(2)  # asked for 2 rows\n",
    "\n",
    "fig.set_size_inches(18.5, 10.5)\n",
    "fig.suptitle(\"Two vertically stacked pies\")\n",
    "\n",
    "y, labels, explode = get_pies(2)\n",
    "ax[0].pie(y, labels=labels, explode=explode, autopct='%1.1f%%', shadow=True, startangle=90)\n",
    "\n",
    "y, labels, explode = get_pies(3)\n",
    "ax[1].pie(y, labels=labels, explode=explode, autopct='%1.1f%%', shadow=True, startangle=90)\n",
    "\n",
    "plt.show()"
   ]
  },
  {
   "cell_type": "code",
   "execution_count": null,
   "metadata": {},
   "outputs": [],
   "source": [
    "fig, ax = plt.subplots(1, 2)  # asked for 1 row, 2 cols\n",
    "\n",
    "fig.set_size_inches(18.5, 10.5)\n",
    "fig.suptitle(\"Two horizontally stacked pies\")\n",
    "\n",
    "y, labels, explode = get_pies(4)\n",
    "ax[0].pie(y, labels=labels, explode=explode, autopct='%1.1f%%', shadow=True, startangle=90)\n",
    "\n",
    "y, labels, explode = get_pies(5)\n",
    "ax[1].pie(y, labels=labels, explode=explode, autopct='%1.1f%%', shadow=True, startangle=90)\n",
    "\n",
    "plt.show()"
   ]
  },
  {
   "cell_type": "markdown",
   "metadata": {},
   "source": [
    "Using the same method, we can print multiple lines in the same figure."
   ]
  },
  {
   "cell_type": "code",
   "execution_count": null,
   "metadata": {},
   "outputs": [],
   "source": [
    "x = np.arange(6)\n",
    "\n",
    "fig, ax = plt.subplots()\n",
    "\n",
    "ax.plot(x, x, c='b', marker=\"^\", ls='--', label='GNE', fillstyle='none')\n",
    "ax.plot(x, x+1, c='g', marker=(8,2,0), ls='--', label='MMR')\n",
    "ax.plot(x, (x+1)**2, c='k', ls='-', label='Rand')\n",
    "ax.plot(x, (x-1)**2, c='r', marker=\"v\", ls='-', label='GMC')\n",
    "ax.plot(x, x**2-1, c='m', marker=\"o\", ls='--', label='BSwap', fillstyle='none')\n",
    "ax.plot(x, x-1, c='k', marker=\"+\", ls=':', label='MSD')\n",
    "\n",
    "plt.legend()  # Automatically generate a legend based on plots `label` parameter\n",
    "\n",
    "plt.show()"
   ]
  },
  {
   "cell_type": "markdown",
   "metadata": {},
   "source": [
    "To know more of what `matplotlib.pyplot` (`plt`) can do for you, there is an extensive documentation with examples [here](https://matplotlib.org/api/pyplot_api.html)."
   ]
  }
 ],
 "metadata": {
  "kernelspec": {
   "display_name": "Python 3",
   "language": "python",
   "name": "python3"
  },
  "language_info": {
   "codemirror_mode": {
    "name": "ipython",
    "version": 3
   },
   "file_extension": ".py",
   "mimetype": "text/x-python",
   "name": "python",
   "nbconvert_exporter": "python",
   "pygments_lexer": "ipython3",
   "version": "3.7.2"
  }
 },
 "nbformat": 4,
 "nbformat_minor": 4
}
