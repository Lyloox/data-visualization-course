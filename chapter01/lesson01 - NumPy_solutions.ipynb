{
 "cells": [
  {
   "cell_type": "code",
   "execution_count": null,
   "metadata": {},
   "outputs": [],
   "source": [
    "import numpy as np\n",
    "\n",
    "matrix = [\n",
    "    [1, 2, 3],\n",
    "    [4, 5, 6],\n",
    "    [7, 8, 9],\n",
    "    [10, 11, 12]\n",
    "]\n",
    "\n",
    "matrix = np.array(matrix)"
   ]
  },
  {
   "cell_type": "code",
   "execution_count": null,
   "metadata": {},
   "outputs": [],
   "source": [
    "# TODO: Print the last two lines of `matrix` using the slice index.\n",
    "# Make sure it will still print the last two lines if we add more lines to the matrix. \n",
    "\n",
    "print(matrix[-2:])"
   ]
  },
  {
   "cell_type": "code",
   "execution_count": null,
   "metadata": {},
   "outputs": [],
   "source": [
    "# TODO: Print the first two lines, in reverse order.\n",
    "\n",
    "print(matrix[1::-1])"
   ]
  },
  {
   "cell_type": "code",
   "execution_count": null,
   "metadata": {},
   "outputs": [],
   "source": [
    "# TODO: Print the last column of the matrix.\n",
    "\n",
    "print(matrix[:, -1])"
   ]
  },
  {
   "cell_type": "code",
   "execution_count": null,
   "metadata": {},
   "outputs": [],
   "source": [
    "d3array = np.array([\n",
    "       [[ 0,  1,  2],\n",
    "        [ 3,  4,  5],\n",
    "        [ 6,  7,  8]],\n",
    "       [[ 9, 10, 11],\n",
    "        [12, 13, 14],\n",
    "        [15, 16, 17]],\n",
    "       [[18, 19, 20],\n",
    "        [21, 22, 23],\n",
    "        [24, 25, 26]]])"
   ]
  },
  {
   "cell_type": "code",
   "execution_count": null,
   "metadata": {},
   "outputs": [],
   "source": [
    "# TODO: Print the intersection of the plan at x=0 and z=0\n",
    "\n",
    "print(d3array[0, :, 0])"
   ]
  },
  {
   "cell_type": "code",
   "execution_count": null,
   "metadata": {},
   "outputs": [],
   "source": [
    "# TODO: Print the first line of the first matrix without the last element\n",
    "\n",
    "print(d3array[0][0][:-1])\n",
    "\n",
    "# TODO: Print the third element of the first line of the second matrix\n",
    "\n",
    "print(d3array[1][0][2])"
   ]
  },
  {
   "cell_type": "code",
   "execution_count": null,
   "metadata": {},
   "outputs": [],
   "source": [
    "# TODO: Print the mean of the first column.\n",
    "print(np.mean(matrix[:, 0]))\n",
    "# TODO: Print the mean of the last column.\n",
    "print(np.mean(matrix[:, -1]))\n",
    "# TODO: Print the mean of the intersection of the first 2 rows and last 2 columns\n",
    "print(matrix[:2, -2:])\n",
    "print(np.mean(matrix[:2, -2:]))"
   ]
  },
  {
   "cell_type": "code",
   "execution_count": null,
   "metadata": {},
   "outputs": [],
   "source": [
    "# TODO: Print the median of the last line.\n",
    "print(np.median(matrix[-1]))\n",
    "# TODO: Print the median of the first column.\n",
    "print(np.median(matrix[:, 0]))\n",
    "# TODO: Print the median of each row.\n",
    "print(np.median(matrix, axis=1))"
   ]
  },
  {
   "cell_type": "code",
   "execution_count": null,
   "metadata": {},
   "outputs": [],
   "source": [
    "# TODO: Use `enumerate` to print the indexes of the elements with values above 5.\n",
    "\n",
    "for (i, x) in enumerate(np.nditer(matrix)):\n",
    "    if x > 5:\n",
    "        print(i)"
   ]
  },
  {
   "cell_type": "code",
   "execution_count": null,
   "metadata": {},
   "outputs": [],
   "source": [
    "# TODO: Print the values that are higher than 3 but lower than 8\n",
    "\n",
    "print(matrix[(matrix > 3) & (matrix < 8)])"
   ]
  }
 ],
 "metadata": {
  "kernelspec": {
   "display_name": "Python 3",
   "language": "python",
   "name": "python3"
  },
  "language_info": {
   "codemirror_mode": {
    "name": "ipython",
    "version": 3
   },
   "file_extension": ".py",
   "mimetype": "text/x-python",
   "name": "python",
   "nbconvert_exporter": "python",
   "pygments_lexer": "ipython3",
   "version": "3.7.2"
  }
 },
 "nbformat": 4,
 "nbformat_minor": 4
}
