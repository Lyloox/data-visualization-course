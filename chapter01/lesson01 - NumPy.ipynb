{
 "cells": [
  {
   "cell_type": "markdown",
   "metadata": {},
   "source": [
    "First, we will import the necessary libraries."
   ]
  },
  {
   "cell_type": "code",
   "execution_count": null,
   "metadata": {},
   "outputs": [],
   "source": [
    "import numpy as np"
   ]
  },
  {
   "cell_type": "markdown",
   "metadata": {},
   "source": [
    "Run the command above! If there is no error or output, congratulations : your package is loaded and you can proceed.\n",
    "\n",
    "# Lesson 01: NumPy\n",
    "\n",
    "Data Visualization needs Data, obviously. The domain is closely related to Data Science and Machine Learning and thus, statistics.\n",
    "\n",
    "Before we start to plot visualizations, we need to be able to do simple operations on our data.\n",
    "\n",
    "First, we will load the Normal Distribution using the function `genfromtxt` from Numpy. The file is already in this folder."
   ]
  },
  {
   "cell_type": "code",
   "execution_count": null,
   "metadata": {},
   "outputs": [],
   "source": [
    "normal_distribution = np.genfromtxt('./normal_distribution.csv', delimiter=',')\n",
    "normal_distribution"
   ]
  },
  {
   "cell_type": "markdown",
   "metadata": {},
   "source": [
    "`normal_distribution` is now loaded as a Numpy.NpArray object.\n",
    "\n",
    "\"Numpy Arrays\" allows a lot of operations that are not implemented in built-in Python lists. \n",
    "\n",
    "Feel free to familiarize yourself with Numpy functionnalities by reading the official documentation from their website. \n",
    "\n",
    "This is not necessary to complete this workshop, but interesting to better understand the behaviour of the functions introduced, and learn more of what NumPy can do for you.\n",
    "\n",
    "## Jupyter Notebook Tips\n",
    "\n",
    "* You can access the documentation of a specific function in a code block by typing Shift + Tab: click on `genfromtxt` above and try it!\n",
    "* To expand the documentation, click on the arrow or press Shift + Tab a second time\n",
    "* Tab-completion: Start typing a command (like `np.gen`) and press Tab, you will see a list of `np` methods starting with `gen`.\n",
    "\n",
    "## Slicing & Indexing with NumPy\n",
    "\n",
    "The indexing syntax is the same as for lists: `\"[1, 2, 3][i]` will return the number at the index `i`.\n",
    "\n",
    "The basic slice syntax is `i:j:k` where `i` is the starting index, `j` is the stopping index, and `k` is the step, where k can not be 0.\n",
    "\n",
    "Indices can be optional, meaning `:` can be used to select all the delements.\n",
    "\n",
    "`i` and `j` can be negative, they are interpreted as `n + i` and `n + j` (where n is the number of elements / the length of the string).\n",
    "\n",
    "Examples:"
   ]
  },
  {
   "cell_type": "code",
   "execution_count": null,
   "metadata": {},
   "outputs": [],
   "source": [
    "print(\"Shape:\\n\", normal_distribution.shape)\n",
    "print(f\"The first value of the shape is the number of rows ({normal_distribution.shape[0]}) \"\n",
    "      f\"and the second the number of columns ({normal_distribution.shape[1]}).\\n\")\n",
    "\n",
    "print(\"Get the first line:\\n\", normal_distribution[0])\n",
    "print(\"Get the last line:\\n\", normal_distribution[-1])\n",
    "\n",
    "print(\"Get the first column:\\n\", normal_distribution[:, 0])"
   ]
  },
  {
   "cell_type": "markdown",
   "metadata": {},
   "source": [
    "### Your turn!\n",
    "\n",
    "How do we get the last column?"
   ]
  },
  {
   "cell_type": "code",
   "execution_count": null,
   "metadata": {},
   "outputs": [],
   "source": [
    "# TODO: Print the last column of `normal_distribution`.\n",
    "\n",
    "print()"
   ]
  },
  {
   "cell_type": "markdown",
   "metadata": {},
   "source": [
    "Great! \n",
    "\n",
    "Of course, you can combine indexing and slicing, as long as there is data left in your extract."
   ]
  },
  {
   "cell_type": "code",
   "execution_count": null,
   "metadata": {},
   "outputs": [],
   "source": [
    "print(\"Get the first line without the first element:\\n\", normal_distribution[0][1:])\n",
    "print(\"Get the first line with element reversed:\\n\", normal_distribution[0][::-1])"
   ]
  },
  {
   "cell_type": "code",
   "execution_count": null,
   "metadata": {},
   "outputs": [],
   "source": [
    "# TODO: Print the first line without the last element\n",
    "\n",
    "print()\n",
    "\n",
    "# TODO: Print the third element of the first line without the first element\n",
    "\n",
    "print()\n",
    "\n",
    "# TODO: Print the third and the fourth element of the last line without the first element\n",
    "\n",
    "print()"
   ]
  },
  {
   "cell_type": "markdown",
   "metadata": {},
   "source": [
    "### Using statistics\n",
    "\n",
    "In case you forgot, a little reminder...\n",
    "\n",
    "* The *mean* is the arithmetic average. The mean of a list `L = X1, X2, ... XN` is the sum of each element divided by the total number of elements `avg(L) = sum([X1, ... XN]) / N`.\n",
    "* The *median* is the middle value of the ordered list. If `N` is odd, the median will be at the index `int(N/2)`, but if `N` is even, it will be the average of the value at index `int(N/2)` and the value at `int(N/2) + 1`.\n",
    "\n",
    "The mean can be obtained by the function `np.mean(L)` and the median by `np.median(L)`."
   ]
  },
  {
   "cell_type": "code",
   "execution_count": null,
   "metadata": {},
   "outputs": [],
   "source": [
    "np.mean([1, 2, 3])"
   ]
  },
  {
   "cell_type": "markdown",
   "metadata": {},
   "source": [
    "Remember how we selected rows or columns just before?\n",
    "\n",
    "You can also ask that from numpy, by selecting an `axis` value. `axis=0` select the horizontal axis (said to be \"column-wise'), whereas `axis=1` select the vertical one (\"row-rise\")."
   ]
  },
  {
   "cell_type": "code",
   "execution_count": null,
   "metadata": {},
   "outputs": [],
   "source": [
    "matrix = [[1, 2, 3],\n",
    "          [4, 5, 6],\n",
    "          [7, 8, 9]]\n",
    "\n",
    "print(\"Means of each column:\\n\", np.mean(matrix, axis=0))\n",
    "print(\"Means of each rows:\\n\", np.mean(matrix, axis=1))\n",
    "\n",
    "print(np.mean(normal_distribution))"
   ]
  },
  {
   "cell_type": "markdown",
   "metadata": {},
   "source": [
    "### Your turn!"
   ]
  },
  {
   "cell_type": "code",
   "execution_count": null,
   "metadata": {},
   "outputs": [],
   "source": [
    "# TODO: Print the mean of the first line.\n",
    "print()\n",
    "# TODO: Print the mean of the last column.\n",
    "print()\n",
    "# TODO: Print the mean of the intersection of the first 2 rows and last 2 columns\n",
    "print()"
   ]
  },
  {
   "cell_type": "code",
   "execution_count": null,
   "metadata": {},
   "outputs": [],
   "source": [
    "# TODO: Print the median of the last line.\n",
    "print()\n",
    "# TODO: Print the median of the first column.\n",
    "print()\n",
    "# TODO: Print the median of each row.\n",
    "print()"
   ]
  },
  {
   "cell_type": "markdown",
   "metadata": {},
   "source": [
    "## Filtering\n",
    "\n",
    "To iterate over your npArray, you can use `np.nditer(L)`.\n",
    "\n",
    "This way you can apply filtering operations on your data."
   ]
  },
  {
   "cell_type": "code",
   "execution_count": null,
   "metadata": {
    "scrolled": false
   },
   "outputs": [],
   "source": [
    "for x in np.nditer(normal_distribution):\n",
    "    if x > 105:\n",
    "        print(x)"
   ]
  },
  {
   "cell_type": "markdown",
   "metadata": {},
   "source": [
    "You can also use \n",
    "* Boolean indexes: `data[condition]`\n",
    "* The function \"extract\" from NumPy: `np.extract(condition, data)`\n",
    "\n",
    "Note: The condition is not a function but a series of Boolean."
   ]
  },
  {
   "cell_type": "code",
   "execution_count": null,
   "metadata": {},
   "outputs": [],
   "source": [
    "print(\"Boolean mask:\", normal_distribution > 105)\n",
    "\n",
    "print(\"Filtered by boolean indexes:\", normal_distribution[normal_distribution > 105])\n",
    "\n",
    "print(\"Filtered by np.extract:\", np.extract(normal_distribution > 105, normal_distribution))"
   ]
  },
  {
   "cell_type": "markdown",
   "metadata": {},
   "source": [
    "You may also want to get the **indexes** instead of the values.\n",
    "\n",
    "You can use:\n",
    "* Python built-in `enumerate(iterable)` function. It will return a list of tuple `(i, x)` where `i` is the index of the element `x` in the list.\n",
    "* NumPy \"where\" function: `np.where(condition)`"
   ]
  },
  {
   "cell_type": "code",
   "execution_count": null,
   "metadata": {},
   "outputs": [],
   "source": [
    "# TODO: Use both functions to print the indexes of the elements with values above 105.\n",
    "\n",
    "print()\n",
    "\n",
    "print()"
   ]
  },
  {
   "cell_type": "markdown",
   "metadata": {},
   "source": [
    "You can combine conditions by using logical \"and\" with `&` and \"or\" with `|`"
   ]
  },
  {
   "cell_type": "code",
   "execution_count": null,
   "metadata": {},
   "outputs": [],
   "source": [
    "print(normal_distribution[(normal_distribution > 100) | (normal_distribution < 95)])\n",
    "\n",
    "# TODO: Print the values that are higher than 95 but lower than 100\n",
    "\n",
    "print()"
   ]
  },
  {
   "cell_type": "markdown",
   "metadata": {},
   "source": [
    "## Array Creation\n",
    "\n",
    "There are several ways to make NumPy arrays. An array has three particular attributes that can be queried: shape, size and the number of dimensions.\n",
    "\n",
    "Don't forget to read the functions documentation with Shift+Tab to better understand them."
   ]
  },
  {
   "cell_type": "code",
   "execution_count": null,
   "metadata": {},
   "outputs": [],
   "source": [
    "a = np.array([1, 2, 3])\n",
    "print(a.shape)\n",
    "print(a.size)\n",
    "print(a.ndim)"
   ]
  },
  {
   "cell_type": "code",
   "execution_count": null,
   "metadata": {},
   "outputs": [],
   "source": [
    "x = np.arange(100)\n",
    "print(x.shape)\n",
    "print(x.size)\n",
    "print(x.ndim)"
   ]
  },
  {
   "cell_type": "code",
   "execution_count": null,
   "metadata": {},
   "outputs": [],
   "source": [
    "y = np.random.rand(5, 80)\n",
    "print(y.shape)\n",
    "print(y.size)\n",
    "print(y.ndim)"
   ]
  }
 ],
 "metadata": {
  "kernelspec": {
   "display_name": "Python 3",
   "language": "python",
   "name": "python3"
  },
  "language_info": {
   "codemirror_mode": {
    "name": "ipython",
    "version": 3
   },
   "file_extension": ".py",
   "mimetype": "text/x-python",
   "name": "python",
   "nbconvert_exporter": "python",
   "pygments_lexer": "ipython3",
   "version": "3.7.2"
  }
 },
 "nbformat": 4,
 "nbformat_minor": 4
}
