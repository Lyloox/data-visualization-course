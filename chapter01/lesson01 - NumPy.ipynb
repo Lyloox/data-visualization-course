{
 "cells": [
  {
   "cell_type": "markdown",
   "metadata": {},
   "source": [
    "First, we will import the necessary libraries."
   ]
  },
  {
   "cell_type": "code",
   "execution_count": null,
   "metadata": {},
   "outputs": [],
   "source": [
    "import numpy as np"
   ]
  },
  {
   "cell_type": "markdown",
   "metadata": {},
   "source": [
    "Run the command above: select the cell and type Ctrl + Enter.\n",
    "\n",
    "If there is no error or output, congratulations : your package is loaded and you can proceed to the next section!\n",
    "\n",
    "# Lesson 01: NumPy\n",
    "\n",
    "Data Visualization needs Data, obviously. The domain is closely related to Data Science and Machine Learning and thus, statistics.\n",
    "\n",
    "Before we start to plot visualizations, we need to be able to do simple operations on our data.\n",
    "\n",
    "First, we will use very simple data."
   ]
  },
  {
   "cell_type": "code",
   "execution_count": null,
   "metadata": {},
   "outputs": [],
   "source": [
    "matrix = [\n",
    "    [1, 2, 3],\n",
    "    [4, 5, 6],\n",
    "    [7, 8, 9],\n",
    "    [10, 11, 12]\n",
    "]\n",
    "\n",
    "matrix = np.array(matrix)"
   ]
  },
  {
   "cell_type": "markdown",
   "metadata": {},
   "source": [
    "`matrix`, which was a built-in Python list, is now loaded as a Numpy.NpArray object.\n",
    "\n",
    "\"Numpy Arrays\" allows a lot of operations that are not implemented in Python lists. \n",
    "\n",
    "Feel free to familiarize yourself with Numpy functionnalities by reading the official documentation from their website. \n",
    "\n",
    "This is not necessary to complete this workshop, but interesting to better understand the behaviour of the functions introduced, and learn more of what NumPy can do for you.\n",
    "\n",
    "## Jupyter Notebook Tips\n",
    "\n",
    "* You can access the documentation of a specific function in a code block by typing Shift + Tab: click on `np.array` above and try it!\n",
    "* To expand the documentation, click on the arrow or press Shift + Tab a second time\n",
    "* Tab-completion: Start typing a command (like `np.arr`) and press Tab, you will see a list of `np` methods starting with `arr`.\n",
    "\n",
    "## Slicing & Indexing with NumPy\n",
    "\n",
    "Slicing has multiple usages:\n",
    "\n",
    "* In machine learning, to separate a big dataset in multiple sets.\n",
    "* In data mining, to extract the data you need from a big or dynamic content\n",
    "* In data visualization, to be able to filter the data the way you want\n",
    "\n",
    "The indexing syntax is the same as for lists: `[1, 2, 3][i]` will return the number at the index `i`. Indexing starts from 0."
   ]
  },
  {
   "cell_type": "code",
   "execution_count": null,
   "metadata": {},
   "outputs": [],
   "source": [
    "[1, 2, 3][0]"
   ]
  },
  {
   "cell_type": "markdown",
   "metadata": {},
   "source": [
    "\n",
    "The basic slice syntax is `i:j:k` where `i` is the starting index, `j` is the stopping index, and `k` is the step, where k can not be 0.\n",
    "\n",
    "Let `n` be the length of the string or array (the number of elements / characters).\n",
    "\n",
    "By default `i` = 0, `j` = `n`, `k` = 1.\n",
    "\n",
    "Indices can be optional, meaning `:` can be used to select all the elements (from 0 to `n` with a step of 1).\n",
    "\n",
    "`i` and `j` can be negative, they are interpreted as `n + i` and `n + j`.\n",
    "\n",
    "Examples:"
   ]
  },
  {
   "cell_type": "code",
   "execution_count": null,
   "metadata": {},
   "outputs": [],
   "source": [
    "print(\"Get every line:\\n\", matrix[:])\n",
    "print()\n",
    "\n",
    "print(\"Get the first line (i=0):\\n\", matrix[0])\n",
    "print(\"Get the last line (i=-1):\\n\", matrix[-1])\n",
    "print()\n",
    "\n",
    "print(\"Get the first two lines (j=2):\\n\", matrix[:2])\n",
    "print(\"Get the second and third lines (i=1, j=3):\\n\", matrix[1:3])"
   ]
  },
  {
   "cell_type": "markdown",
   "metadata": {},
   "source": [
    "### Your turn!\n",
    "\n",
    "How do we get the two last lines of `matrix`?"
   ]
  },
  {
   "cell_type": "code",
   "execution_count": null,
   "metadata": {},
   "outputs": [],
   "source": [
    "# TODO: Print the last two lines of `matrix`.\n",
    "\n",
    "print(matrix)"
   ]
  },
  {
   "cell_type": "markdown",
   "metadata": {},
   "source": [
    "More examples, using `k`"
   ]
  },
  {
   "cell_type": "code",
   "execution_count": null,
   "metadata": {},
   "outputs": [],
   "source": [
    "print(\"Get every odd line (k=2):\\n\", matrix[::2])\n",
    "print(\"Get every even line (i=1, k=2):\\n\", matrix[1::2])\n",
    "print(\"Get every line, in reverse order (k=-1):\\n\", matrix[::-1])"
   ]
  },
  {
   "cell_type": "code",
   "execution_count": null,
   "metadata": {},
   "outputs": [],
   "source": [
    "# TODO: Print the first two lines, in reverse order.\n",
    "\n",
    "print(matrix)"
   ]
  },
  {
   "cell_type": "markdown",
   "metadata": {},
   "source": [
    "## Slicing multidimensional arrays\n",
    "\n",
    "You can use the Indexing syntax along **multiple axis**.\n",
    "\n",
    "You can access axis elements using commas: `matrix[:, :]` is equivalent to `matrix`: it selects every elements from axis 0, meaning the *lines*, and all the elements from axis 1, meaning the *columns*.\n",
    "\n",
    "But `matrix[:, :, :]` will give an error: `matrix` only have 2 axis.\n",
    "\n",
    "What we did before was equivalent to use indexing syntax on the axis 0, meaning we could only works with *lines*.\n",
    "\n",
    "First, let's work with the columns of `matrix`."
   ]
  },
  {
   "cell_type": "code",
   "execution_count": null,
   "metadata": {},
   "outputs": [],
   "source": [
    "print(\"Get every (line) elements, but from the first column:\\n\", matrix[:, 0])\n",
    "print(\"Get the first two elements of the first column:\\n\", matrix[:2, 0])\n",
    "print(\"Get every (line) elements of the first column in reverse order:\\n\", matrix[::-1, 0])"
   ]
  },
  {
   "cell_type": "code",
   "execution_count": null,
   "metadata": {},
   "outputs": [],
   "source": [
    "print(matrix)\n",
    "print(\"Shape of the matrix:\", matrix.shape)\n",
    "print(f\"The first value of the shape is the number of rows ({matrix.shape[0]}) \"\n",
    "      f\"and the second the number of columns ({matrix.shape[1]}).\\n\")\n",
    "\n",
    "print(\"Get the second column:\\n\", matrix[:, 1])\n",
    "print(\"Above shape:\", matrix[:, 1].shape)\n",
    "\n",
    "print(\"Get a matrix subset without the first column (starting from the second):\\n\", matrix[:, 1:])\n",
    "print(\"Above shape:\", matrix[:, 1:].shape)\n",
    "\n",
    "print(\"Get a matrix subset of the first two lines and first two elements:\\n\", matrix[:2, :2])\n",
    "print(\"Above shape:\", matrix[:2, :2].shape)\n",
    "\n",
    "print(\"Get a matrix subset window of the first two lines without the first column:\\n\", matrix[:2, 1:])\n",
    "print(\"Above shape:\", matrix[:2, 1:].shape)"
   ]
  },
  {
   "cell_type": "code",
   "execution_count": null,
   "metadata": {},
   "outputs": [],
   "source": [
    "# TODO: Print the last column of the matrix.\n",
    "\n",
    "print(matrix)"
   ]
  },
  {
   "cell_type": "markdown",
   "metadata": {},
   "source": [
    "Now, we're gonna work with a three-dimensional array. Let's define `d3array`"
   ]
  },
  {
   "cell_type": "code",
   "execution_count": null,
   "metadata": {},
   "outputs": [],
   "source": [
    "d3array = np.array([\n",
    "       [[ 0,  1,  2],\n",
    "        [ 3,  4,  5],\n",
    "        [ 6,  7,  8]],\n",
    "       [[ 9, 10, 11],\n",
    "        [12, 13, 14],\n",
    "        [15, 16, 17]],\n",
    "       [[18, 19, 20],\n",
    "        [21, 22, 23],\n",
    "        [24, 25, 26]]])\n",
    "\n",
    "print(\"d3array shape:\", d3array.shape)"
   ]
  },
  {
   "cell_type": "markdown",
   "metadata": {},
   "source": [
    "**From now on, use only `d3array` to resolve exercises.**\n",
    "\n",
    "You can think of it as a cube of shape (x, y, z).\n",
    "\n",
    "x is the rows (vertical axis, starting from 0 and going down to N)  \n",
    "y is the columns (horizontal axis, starting from 0 and going up to N)  \n",
    "z is the plane (diagonal axis, starting from 0 and going up to N)"
   ]
  },
  {
   "cell_type": "code",
   "execution_count": null,
   "metadata": {},
   "outputs": [],
   "source": [
    "print(\"We can select all elements from all axis...\")\n",
    "\n",
    "d3array[:, :, :]"
   ]
  },
  {
   "cell_type": "code",
   "execution_count": null,
   "metadata": {},
   "outputs": [],
   "source": [
    "print(\"Select the plan (matrix (3, 3)) at x=0:\\n\", d3array[0, :, :])\n",
    "print(\"Select the plan (matrix (3, 3)) at y=0:\\n\", d3array[:, 0, :])\n",
    "print(\"Select the plan (matrix (3, 3)) at z=0:\\n\", d3array[:, :, 0])"
   ]
  },
  {
   "cell_type": "code",
   "execution_count": null,
   "metadata": {},
   "outputs": [],
   "source": [
    "# TODO: Print the intersection of the plan at x=0 and z=0\n",
    "\n",
    "print()"
   ]
  },
  {
   "cell_type": "markdown",
   "metadata": {},
   "source": [
    "Great!\n",
    "\n",
    "Of course, you can combine indexing and slicing, as long as there is data left in your extract."
   ]
  },
  {
   "cell_type": "code",
   "execution_count": null,
   "metadata": {},
   "outputs": [],
   "source": [
    "print(\"Get the first matrix:\\n\", d3array[0])\n",
    "print(\"Get the last matrix without the first line:\\n\", d3array[-1][1:])\n",
    "print(\"Get the second element of the last line the first matrix:\\n\", d3array[0][-1][2])\n",
    "print(\"Get the second element of the last line the first matrix:\\n\", d3array[0, -1, 2])\n",
    "print(\"Get the second element of the last line the first matrix:\\n\", d3array[0, -1, :][2])"
   ]
  },
  {
   "cell_type": "code",
   "execution_count": null,
   "metadata": {},
   "outputs": [],
   "source": [
    "# TODO: Print the first line of the first matrix without the last element\n",
    "\n",
    "print()\n",
    "\n",
    "# TODO: Print the third element of the first line of the second matrix\n",
    "\n",
    "print()"
   ]
  },
  {
   "cell_type": "markdown",
   "metadata": {},
   "source": [
    "### Using statistics\n",
    "\n",
    "In case you forgot, a little reminder...\n",
    "\n",
    "* The *mean* is the arithmetic average. The mean of a list `L = X1, X2, ... XN` is the sum of each element divided by the total number of elements `avg(L) = sum([X1, ... XN]) / N`.\n",
    "* The *median* is the middle value of the ordered list. If `N` is odd, the median will be at the index `int(N/2)`, but if `N` is even, it will be the average of the value at index `int(N/2)` and the value at `int(N/2) + 1`.\n",
    "\n",
    "These functions are provided to you by NumPy - in a more optimized way than if you had coded it yourself.\n",
    "\n",
    "The mean can be obtained by the function `np.mean(L)` and the median by `np.median(L)`."
   ]
  },
  {
   "cell_type": "code",
   "execution_count": null,
   "metadata": {},
   "outputs": [],
   "source": [
    "np.mean([1, 2, 3])"
   ]
  },
  {
   "cell_type": "markdown",
   "metadata": {},
   "source": [
    "Remember how we selected rows or columns just before?\n",
    "\n",
    "You can also ask that from numpy, by selecting an `axis` value. `axis=0` select the horizontal axis (said to be \"column-wise'), whereas `axis=1` select the vertical one (\"row-rise\")."
   ]
  },
  {
   "cell_type": "code",
   "execution_count": null,
   "metadata": {},
   "outputs": [],
   "source": [
    "print(\"Means of each column:\\n\", np.mean(matrix, axis=0))\n",
    "print(\"Means of each rows:\\n\", np.mean(matrix, axis=1))\n",
    "\n",
    "print(np.mean(matrix))"
   ]
  },
  {
   "cell_type": "markdown",
   "metadata": {},
   "source": [
    "### Your turn!"
   ]
  },
  {
   "cell_type": "code",
   "execution_count": null,
   "metadata": {},
   "outputs": [],
   "source": [
    "# TODO: Print the mean of the first line.\n",
    "print()\n",
    "# TODO: Print the mean of the last column.\n",
    "print()\n",
    "# TODO: Print the mean of the intersection of the first 2 rows and last 2 columns\n",
    "print()"
   ]
  },
  {
   "cell_type": "code",
   "execution_count": null,
   "metadata": {},
   "outputs": [],
   "source": [
    "# TODO: Print the median of the last line.\n",
    "print()\n",
    "# TODO: Print the median of the first column.\n",
    "print()\n",
    "# TODO: Print the median of each row.\n",
    "print()"
   ]
  },
  {
   "cell_type": "markdown",
   "metadata": {},
   "source": [
    "## Filtering\n",
    "\n",
    "To iterate over your npArray, you can use `np.nditer(L)`.\n",
    "\n",
    "This way you can apply filtering operations on your data."
   ]
  },
  {
   "cell_type": "code",
   "execution_count": null,
   "metadata": {
    "scrolled": false
   },
   "outputs": [],
   "source": [
    "for x in np.nditer(matrix):\n",
    "    if x > 5:\n",
    "        print(x)"
   ]
  },
  {
   "cell_type": "markdown",
   "metadata": {},
   "source": [
    "You can also use \n",
    "* Boolean indexes: `data[condition]`\n",
    "* The function \"extract\" from NumPy: `np.extract(condition, data)`\n",
    "\n",
    "Note: The condition is not a function but a series of Boolean."
   ]
  },
  {
   "cell_type": "code",
   "execution_count": null,
   "metadata": {},
   "outputs": [],
   "source": [
    "print(\"Boolean mask:\", matrix > 5)\n",
    "\n",
    "print(\"Filtered by boolean indexes:\", matrix[matrix > 5])\n",
    "\n",
    "print(\"Filtered by np.extract:\", np.extract(matrix > 5, matrix))"
   ]
  },
  {
   "cell_type": "markdown",
   "metadata": {},
   "source": [
    "You may also want to get the **indexes** instead of the values.\n",
    "\n",
    "You can use:\n",
    "* Python built-in `enumerate(iterable)` function. It will return a list of tuple `(i, x)` where `i` is the index of the element `x` in the list.\n",
    "* NumPy \"where\" function: `np.where(condition)`"
   ]
  },
  {
   "cell_type": "code",
   "execution_count": null,
   "metadata": {},
   "outputs": [],
   "source": [
    "# TODO: Use both functions to print the indexes of the elements with values above 105.\n",
    "\n",
    "print()\n",
    "\n",
    "print()"
   ]
  },
  {
   "cell_type": "markdown",
   "metadata": {},
   "source": [
    "You can combine conditions by using logical \"and\" with `&` and \"or\" with `|`"
   ]
  },
  {
   "cell_type": "code",
   "execution_count": null,
   "metadata": {},
   "outputs": [],
   "source": [
    "print(matrix[(matrix > 3) | (matrix < 8)])\n",
    "\n",
    "# TODO: Print the values that are higher than 3 but lower than 8\n",
    "\n",
    "print()"
   ]
  },
  {
   "cell_type": "markdown",
   "metadata": {},
   "source": [
    "## Array Creation\n",
    "\n",
    "There are several ways to make NumPy arrays. An array has three particular attributes that can be queried: shape, size and the number of dimensions.\n",
    "\n",
    "Don't forget to read the functions documentation with Shift+Tab to better understand them."
   ]
  },
  {
   "cell_type": "code",
   "execution_count": null,
   "metadata": {},
   "outputs": [],
   "source": [
    "a = np.array([1, 2, 3])\n",
    "print(a.shape)\n",
    "print(a.size)\n",
    "print(a.ndim)"
   ]
  },
  {
   "cell_type": "code",
   "execution_count": null,
   "metadata": {},
   "outputs": [],
   "source": [
    "x = np.arange(100)\n",
    "print(x.shape)\n",
    "print(x.size)\n",
    "print(x.ndim)"
   ]
  },
  {
   "cell_type": "code",
   "execution_count": null,
   "metadata": {},
   "outputs": [],
   "source": [
    "y = np.random.rand(5, 80)\n",
    "print(y.shape)\n",
    "print(y.size)\n",
    "print(y.ndim)"
   ]
  },
  {
   "cell_type": "markdown",
   "metadata": {},
   "source": [
    "This is the end of your NumPy initiation. \n",
    "\n",
    "If you have no questions or confusion to share with the class, you can now move on to Lesson 02."
   ]
  }
 ],
 "metadata": {
  "kernelspec": {
   "display_name": "Python 3",
   "language": "python",
   "name": "python3"
  },
  "language_info": {
   "codemirror_mode": {
    "name": "ipython",
    "version": 3
   },
   "file_extension": ".py",
   "mimetype": "text/x-python",
   "name": "python",
   "nbconvert_exporter": "python",
   "pygments_lexer": "ipython3",
   "version": "3.7.2"
  }
 },
 "nbformat": 4,
 "nbformat_minor": 4
}
