{
 "cells": [
  {
   "cell_type": "markdown",
   "metadata": {},
   "source": [
    "Just some code you can read and run cell by cell, if you prefer.\n",
    "\n",
    "Course is available by the slides: https://docs.google.com/presentation/d/18l8GbRg-UqZPtR6IVwtRFy79JD777Gzk1JccUFRYIGo/edit?usp=sharing \n",
    "\n",
    "Slides from the Hackaton: https://docs.google.com/presentation/d/1ZAlQLosDhvgHEru3dN7u4JzBA5aot_Jxi8nw3Qoo8Kg/edit?usp=sharing \n",
    "\n",
    "## Environment variables"
   ]
  },
  {
   "cell_type": "code",
   "execution_count": null,
   "metadata": {},
   "outputs": [],
   "source": [
    "import os\n",
    "\n",
    "usr = os.environ.get(\"SQL_USR\")\n",
    "pwd = os.environ.get(\"SQL_PWD\")\n",
    "usr"
   ]
  },
  {
   "cell_type": "code",
   "execution_count": null,
   "metadata": {},
   "outputs": [],
   "source": [
    "# os.environ is a dictionnary of your environment variables\n",
    "os.environ"
   ]
  },
  {
   "cell_type": "code",
   "execution_count": null,
   "metadata": {},
   "outputs": [],
   "source": [
    "# you can use .get on regular dictionnary\n",
    "{\"chat\": 42}.get(\"chat\")"
   ]
  },
  {
   "cell_type": "code",
   "execution_count": null,
   "metadata": {},
   "outputs": [],
   "source": [
    "# it will not raise error if it does not exist\n",
    "{\"chat\": 42}.get(\"dog\")"
   ]
  },
  {
   "cell_type": "code",
   "execution_count": null,
   "metadata": {},
   "outputs": [],
   "source": [
    "# another way to get env var\n",
    "os.getenv(\"SQL_USR\")"
   ]
  },
  {
   "cell_type": "markdown",
   "metadata": {},
   "source": [
    "# SQL"
   ]
  },
  {
   "cell_type": "markdown",
   "metadata": {},
   "source": [
    "## How To\n",
    "\n",
    "* Get mysql https://dev.mysql.com/downloads/mysql/ \n",
    "* How to connect with mysql, command-line : https://dev.mysql.com/doc/refman/5.7/en/tutorial.html\n",
    "\n",
    "\n",
    "If you have mysql installed and initalized a database with user root, you should be able to connect with\n",
    "`mysql -u root -p` and will be prompted for you password.\n",
    "\n",
    "If succesful, you should see some text and a prompt **`[mysql>`**\n",
    "\n",
    "Once you're in there, you can create a non-root user for this database, for example:\n",
    "\n",
    "`CREATE USER 'chaton'@'localhost' IDENTIFIED BY 'chaton42';`\n",
    "\n",
    "And use this user (chaton) and password (chaton42) to connect to your database.\n",
    "\n",
    "Don't forget to also create a database inside it:\n",
    "\n",
    "`CREATE DATABASE cats_base;`\n",
    "\n",
    "And gives privilege to your user:\n",
    "\n",
    "`GRANT SELECT, INSERT, DELETE ON cats_base.* TO chaton@'localhost';`"
   ]
  },
  {
   "cell_type": "code",
   "execution_count": null,
   "metadata": {},
   "outputs": [],
   "source": [
    "import mysql.connector"
   ]
  },
  {
   "cell_type": "code",
   "execution_count": null,
   "metadata": {},
   "outputs": [],
   "source": [
    "connection = mysql.connector.connect(host='localhost',\n",
    "                                     database=\"cats_base\",\n",
    "                                     user=usr,\n",
    "                                     password=pwd)\n",
    "\n",
    "print(connection)  # No error == active connection!"
   ]
  },
  {
   "cell_type": "code",
   "execution_count": null,
   "metadata": {},
   "outputs": [],
   "source": [
    "query = \"SELECT VERSION(), CURRENT_DATE;\"\n",
    "\n",
    "cursor = connection.cursor()\n",
    "cursor.execute(query)\n",
    "cursor.fetchall()"
   ]
  },
  {
   "cell_type": "markdown",
   "metadata": {},
   "source": [
    "## Create `cats` database\n"
   ]
  },
  {
   "cell_type": "code",
   "execution_count": null,
   "metadata": {},
   "outputs": [],
   "source": [
    "query = \"\"\"\n",
    "    DROP TABLE CATS;\"\"\"\n",
    "cursor = connection.cursor()\n",
    "cursor.execute(query)  # No output = success!"
   ]
  },
  {
   "cell_type": "code",
   "execution_count": null,
   "metadata": {},
   "outputs": [],
   "source": [
    "query = \"\"\"\n",
    "    CREATE TABLE cats (  \n",
    "    id INTEGER PRIMARY KEY AUTO_INCREMENT NOT NULL,  \n",
    "    name VARCHAR(20) NOT NULL,  \n",
    "    eye_color VARCHAR(10) NOT NULL,  \n",
    "    coat_color VARCHAR(10) NOT NULL\n",
    "    );\n",
    "    \"\"\"\n",
    "cursor = connection.cursor()\n",
    "cursor.execute(query)  # No output = success!"
   ]
  },
  {
   "cell_type": "code",
   "execution_count": null,
   "metadata": {},
   "outputs": [],
   "source": [
    "query = 'INSERT INTO cats VALUES (NULL, \"Moufassa\", \"black\", \"black\");'\n",
    "#cursor = connection.cursor()\n",
    "cursor.execute(query)  # No output = success!"
   ]
  },
  {
   "cell_type": "code",
   "execution_count": null,
   "metadata": {},
   "outputs": [],
   "source": [
    "query = \"SELECT * FROM cats;\"\n",
    "\n",
    "cursor = connection.cursor()\n",
    "cursor.execute(query)\n",
    "cursor.fetchall()"
   ]
  },
  {
   "cell_type": "markdown",
   "metadata": {},
   "source": [
    "## Populate `cats` database"
   ]
  },
  {
   "cell_type": "code",
   "execution_count": null,
   "metadata": {},
   "outputs": [],
   "source": [
    "# Now that everything works, let's generate a lot of cats.\n",
    "# (The generator from chapter03 has been reused)\n",
    "\n",
    "import random \n",
    "\n",
    "possible_values = {\n",
    "    \"Names\": [\"Tigrou\", \"Caramel\", \"Felix\", \"Simba\", \"Garfield\", \"Berlioz\",\n",
    "              \"Moustache\", \"Moufassa\", \"Azraël\", \"Sylvestre\", \"Oggy\", \"Rouky\"],\n",
    "    \"EyeColor\": [\"cyan\", \"lime\", \"black\", \"sienna\", \"gold\"],\n",
    "    \"CoatColor\": [\"orange\", \"black\"],\n",
    "}\n",
    "\n",
    "nb_cats = 10\n",
    "for i in range(nb_cats):\n",
    "    cat_sample = []\n",
    "    for col, values in possible_values.items():\n",
    "        cat_sample.append(random.choice(values))\n",
    "    query = 'INSERT INTO cats VALUES (NULL, %s, %s, %s);'\n",
    "    cursor.execute(query, cat_sample)\n",
    "    # ^ notice how we used %s with arguments in a second variable.\n",
    "    # this is called a Parameterized Query."
   ]
  },
  {
   "cell_type": "code",
   "execution_count": null,
   "metadata": {},
   "outputs": [],
   "source": [
    "query = \"SELECT * FROM cats;\"\n",
    "\n",
    "cursor = connection.cursor()\n",
    "cursor.execute(query)\n",
    "cursor.fetchall()"
   ]
  },
  {
   "cell_type": "markdown",
   "metadata": {},
   "source": [
    "Want to know more?\n",
    "\n",
    "* https://pynative.com/python-mysql-select-query-to-fetch-data/ "
   ]
  }
 ],
 "metadata": {
  "kernelspec": {
   "display_name": "Python 3",
   "language": "python",
   "name": "python3"
  },
  "language_info": {
   "codemirror_mode": {
    "name": "ipython",
    "version": 3
   },
   "file_extension": ".py",
   "mimetype": "text/x-python",
   "name": "python",
   "nbconvert_exporter": "python",
   "pygments_lexer": "ipython3",
   "version": "3.7.2"
  }
 },
 "nbformat": 4,
 "nbformat_minor": 2
}
