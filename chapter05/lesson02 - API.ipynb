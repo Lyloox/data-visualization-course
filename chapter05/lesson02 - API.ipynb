{
 "cells": [
  {
   "cell_type": "code",
   "execution_count": null,
   "metadata": {},
   "outputs": [],
   "source": [
    "import json\n",
    "import os\n",
    "import random\n",
    "import shutil\n",
    "from typing import Tuple\n",
    "\n",
    "import requests"
   ]
  },
  {
   "cell_type": "code",
   "execution_count": null,
   "metadata": {},
   "outputs": [],
   "source": [
    "keywords = \"cats\"\n",
    "\n",
    "access_key = os.getenv(\"unsplash_access_key\")\n",
    "api = os.getenv(\"unsplash_api\")\n",
    "\n",
    "\n",
    "headers = {\n",
    "    \"Authorization\": f\"Client-ID {access_key}\"\n",
    "}\n",
    "\n",
    "response = requests.get(f\"{api}/search/photos?query={keywords}\",\n",
    "                            headers=headers)\n",
    "\n",
    "response"
   ]
  },
  {
   "cell_type": "code",
   "execution_count": null,
   "metadata": {},
   "outputs": [],
   "source": [
    "response.status_code"
   ]
  },
  {
   "cell_type": "code",
   "execution_count": null,
   "metadata": {},
   "outputs": [],
   "source": [
    "response.text"
   ]
  },
  {
   "cell_type": "code",
   "execution_count": null,
   "metadata": {},
   "outputs": [],
   "source": [
    "data = json.loads(response.text)\n",
    "data"
   ]
  },
  {
   "cell_type": "code",
   "execution_count": null,
   "metadata": {},
   "outputs": [],
   "source": [
    "# Show the first result\n",
    "data['results'][0]"
   ]
  },
  {
   "cell_type": "code",
   "execution_count": null,
   "metadata": {},
   "outputs": [],
   "source": [
    "data['results'][0]['user']['username']"
   ]
  },
  {
   "cell_type": "code",
   "execution_count": null,
   "metadata": {},
   "outputs": [],
   "source": [
    "usernames = [x['user']['username'] for x in data['results']]\n",
    "usernames"
   ]
  },
  {
   "cell_type": "code",
   "execution_count": null,
   "metadata": {},
   "outputs": [],
   "source": [
    "# This shows only the first 10 result.\n",
    "# To have the next page, you need to request is.\n",
    "\n",
    "page = 2\n",
    "\n",
    "response = requests.get(f\"{api}/search/photos?query={keywords}&page={page}\",\n",
    "                            headers=headers)\n",
    "\n",
    "response"
   ]
  },
  {
   "cell_type": "code",
   "execution_count": null,
   "metadata": {},
   "outputs": [],
   "source": [
    "# We add the next 10 results...\n",
    "for x in json.loads(response.text)['results']:\n",
    "    usernames.append(x['user']['username']\n",
    "\n",
    "usernames"
   ]
  },
  {
   "cell_type": "code",
   "execution_count": null,
   "metadata": {},
   "outputs": [],
   "source": [
    "# Let's automate the request of the 5 first pages.\n",
    "page = 5\n",
    "usernames_5pages = []\n",
    "\n",
    "for i in range(1, page + 1):\n",
    "    response = requests.get(f\"{api}/search/photos?query={keywords}&page={i}\",\n",
    "                            headers=headers)\n",
    "    \n",
    "    if response.status_code != 200:\n",
    "        print(\"Error with request:\", response.text)\n",
    "        break\n",
    "    \n",
    "    for x in json.loads(response.text)['results']:\n",
    "        usernames_5pages.append(x['user']['username'])\n",
    "                            \n",
    "\n",
    "usernames_5pages"
   ]
  }
 ],
 "metadata": {
  "kernelspec": {
   "display_name": "Python 3",
   "language": "python",
   "name": "python3"
  },
  "language_info": {
   "codemirror_mode": {
    "name": "ipython",
    "version": 3
   },
   "file_extension": ".py",
   "mimetype": "text/x-python",
   "name": "python",
   "nbconvert_exporter": "python",
   "pygments_lexer": "ipython3",
   "version": "3.7.2"
  }
 },
 "nbformat": 4,
 "nbformat_minor": 4
}
