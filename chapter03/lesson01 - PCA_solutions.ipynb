{
 "cells": [
  {
   "cell_type": "code",
   "execution_count": null,
   "metadata": {},
   "outputs": [],
   "source": [
    "import numpy as np\n",
    "import pandas as pd\n",
    "\n",
    "import matplotlib.pyplot as plt\n",
    "\n",
    "from matplotlib import pyplot as plt\n",
    "from mpl_toolkits import mplot3d\n",
    "\n",
    "import random\n",
    "from pprint import pprint\n",
    "\n",
    "k = 2\n",
    "d = 3\n",
    "\n",
    "possible_values = {\n",
    "    \"EyeColor\": [\"cyan\", \"lime\", \"black\", \"sienna\", \"gold\"],\n",
    "    \"CoatColor\": [\"orange\", \"black\"],\n",
    "    \"ChestLength (cm)\": range(28, 52),\n",
    "    \"Length (cm)\": range(26, 42),\n",
    "    \"Weight (kg)\": np.arange(2, 9, 0.5)\n",
    "}\n",
    "\n",
    "\n",
    "def create_cats_dataset(nb_cats: int) -> pd.DataFrame:\n",
    "    cats = []\n",
    "    for i in range(nb_cats):\n",
    "        cat_sample = []\n",
    "        for values in possible_values.values():\n",
    "            cat_sample.append(random.choice(values))\n",
    "        cats.append(cat_sample)\n",
    "    return pd.DataFrame(cats, columns=possible_values.keys())\n",
    "\n",
    "small_dataset = create_cats_dataset(25)\n",
    "pprint(small_dataset)\n",
    "\n",
    "normalizable_columns = list(possible_values.keys())[-d:]  # Look how we used the Slicing syntax here!"
   ]
  },
  {
   "cell_type": "code",
   "execution_count": null,
   "metadata": {},
   "outputs": [],
   "source": [
    "small_dataset_transformed = small_dataset.copy()\n",
    "\n",
    "# TODO: Use the `apply` function from Pandas to substract each value from its average.\n",
    "\n",
    "for col in normalizable_columns:  \n",
    "    small_dataset_transformed[col] = small_dataset[col].apply(lambda x: x - small_dataset[col].mean())\n",
    "    \n",
    "small_dataset_transformed"
   ]
  },
  {
   "cell_type": "code",
   "execution_count": null,
   "metadata": {},
   "outputs": [],
   "source": [
    "small_dataset_matrix = small_dataset_transformed[normalizable_columns].values\n",
    "cov_matrix = np.cov(small_dataset_matrix.T)\n",
    "\n",
    "# TODO: Print the second column of the `cov_matrix`.\n",
    "\n",
    "print(cov_matrix[:, 1])"
   ]
  },
  {
   "cell_type": "code",
   "execution_count": null,
   "metadata": {},
   "outputs": [],
   "source": [
    "# TODO: Now, transpose the cov_matrix.\n",
    "\n",
    "print(cov_matrix.T)"
   ]
  },
  {
   "cell_type": "code",
   "execution_count": null,
   "metadata": {},
   "outputs": [],
   "source": [
    "eig_val_cov, eig_vec_cov = np.linalg.eig(cov_matrix)\n",
    "\n",
    "eig_pairs = [(val, vec) for val, vec in zip(eig_val_cov, eig_vec_cov)]\n",
    "\n",
    "k_eig_vectors = sorted(eig_pairs, reverse=True)[:k]\n",
    "\n",
    "matrix_w = np.hstack([k_eig_vectors[0][1].reshape(d, 1), \n",
    "                      k_eig_vectors[1][1].reshape(d, 1)])\n",
    "\n",
    "# TODO: Project `small_dataset_matrix` in `k_subspace` by using a dot product on matrix_w.\n",
    "## Hint: You can ctrl+f \"dot\" in this document to see previous usage.\n",
    "\n",
    "k_subspace = matrix_w.T.dot(small_dataset_matrix.T)\n",
    "print(k_subspace.shape)\n",
    "k_subspace"
   ]
  }
 ],
 "metadata": {
  "kernelspec": {
   "display_name": "Python 3",
   "language": "python",
   "name": "python3"
  },
  "language_info": {
   "codemirror_mode": {
    "name": "ipython",
    "version": 3
   },
   "file_extension": ".py",
   "mimetype": "text/x-python",
   "name": "python",
   "nbconvert_exporter": "python",
   "pygments_lexer": "ipython3",
   "version": "3.7.2"
  }
 },
 "nbformat": 4,
 "nbformat_minor": 4
}
